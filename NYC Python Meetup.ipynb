{
 "cells": [
  {
   "cell_type": "markdown",
   "metadata": {
    "colab_type": "text",
    "id": "view-in-github"
   },
   "source": [
    "<a href=\"https://colab.research.google.com/github/ybressler/Web-Scraping/blob/master/Web%20Scraping%20Overview%20%E2%80%93%20NYC%20Python%20Meetup.ipynb\" target=\"_parent\"><img src=\"https://colab.research.google.com/assets/colab-badge.svg\" alt=\"Open In Colab\"/></a>"
   ]
  },
  {
   "cell_type": "markdown",
   "metadata": {
    "colab_type": "text",
    "heading_collapsed": true,
    "id": "GjFLFtmS5Yud"
   },
   "source": [
    "# Web Scraping – NYC Python Meetup\n",
    "from https://github.com/ybressler/Web-Scraping/blob/master/Web%20Scraping%20Overview%20%E2%80%93%20NYC%20Python%20Meetup.ipynb"
    "\n",
    "---\n"
   ]
  },
  {
   "cell_type": "code",
   "execution_count": 16,
   "metadata": {
    "colab": {},
    "colab_type": "code",
    "hidden": true,
    "id": "FQGKelpQ5dP7"
   },
   "outputs": [],
   "source": [
    "# These should all be installed. If they're not, pip install them by entering the following into a cell:\n",
    "# !pip install <package name>\n",
    "\n",
    "# Core python\n",
    "import os\n",
    "import json\n",
    "import re\n",
    "import datetime\n",
    "from collections import Counter\n",
    "\n",
    "# Web scraping\n",
    "import requests\n",
    "import urllib\n",
    "from bs4 import BeautifulSoup \n",
    "from pprint import pprint\n",
    "\n",
    "## pandas\n",
    "import numpy as np\n",
    "import pandas as pd\n"
   ]
  },
  {
   "cell_type": "markdown",
   "metadata": {
    "colab_type": "text",
    "heading_collapsed": true,
    "id": "Cq1zohTk57B6"
   },
   "source": [
    "# Basic Stuff"
   ]
  },
  {
   "cell_type": "code",
   "execution_count": 15,
   "metadata": {
    "colab": {},
    "colab_type": "code",
    "hidden": true,
    "id": "1jzzVA7o5qqM"
   },
   "outputs": [
    {
     "ename": "NameError",
     "evalue": "name 'requests' is not defined",
     "output_type": "error",
     "traceback": [
      "\u001b[1;31m---------------------------------------------------------------------------\u001b[0m",
      "\u001b[1;31mNameError\u001b[0m                                 Traceback (most recent call last)",
      "\u001b[1;32m<ipython-input-15-9e685b1500af>\u001b[0m in \u001b[0;36m<module>\u001b[1;34m\u001b[0m\n\u001b[0;32m      1\u001b[0m \u001b[0murl\u001b[0m \u001b[1;33m=\u001b[0m \u001b[1;34m\"https://www.meetup.com/nycpython/\"\u001b[0m\u001b[1;33m\u001b[0m\u001b[1;33m\u001b[0m\u001b[0m\n\u001b[0;32m      2\u001b[0m \u001b[1;33m\u001b[0m\u001b[0m\n\u001b[1;32m----> 3\u001b[1;33m \u001b[0mr\u001b[0m \u001b[1;33m=\u001b[0m \u001b[0mrequests\u001b[0m\u001b[1;33m.\u001b[0m\u001b[0mget\u001b[0m\u001b[1;33m(\u001b[0m\u001b[0murl\u001b[0m\u001b[1;33m)\u001b[0m\u001b[1;33m\u001b[0m\u001b[1;33m\u001b[0m\u001b[0m\n\u001b[0m\u001b[0;32m      4\u001b[0m \u001b[0mhtml\u001b[0m \u001b[1;33m=\u001b[0m \u001b[0mr\u001b[0m\u001b[1;33m.\u001b[0m\u001b[0mtext\u001b[0m\u001b[1;33m\u001b[0m\u001b[1;33m\u001b[0m\u001b[0m\n\u001b[0;32m      5\u001b[0m \u001b[0msoup\u001b[0m \u001b[1;33m=\u001b[0m \u001b[0mBeautifulSoup\u001b[0m\u001b[1;33m(\u001b[0m\u001b[0mhtml\u001b[0m\u001b[1;33m,\u001b[0m \u001b[1;34m'html.parser'\u001b[0m\u001b[1;33m)\u001b[0m\u001b[1;33m\u001b[0m\u001b[1;33m\u001b[0m\u001b[0m\n",
      "\u001b[1;31mNameError\u001b[0m: name 'requests' is not defined"
     ]
    }
   ],
   "source": [
    "url = \"https://www.meetup.com/nycpython/\"\n",
    "\n",
    "r = requests.get(url)\n",
    "html = r.text\n",
    "soup = BeautifulSoup(html, 'html.parser')\n",
    "\n",
    "\n",
    "# Store all the things I'm scraping\n",
    "records = {}"
   ]
  },
  {
   "cell_type": "markdown",
   "metadata": {
    "colab_type": "text",
    "hidden": true,
    "id": "cUBHrxSU6D8q"
   },
   "source": [
    "## Title"
   ]
  },
  {
   "cell_type": "code",
   "execution_count": 56,
   "metadata": {
    "colab": {
     "base_uri": "https://localhost:8080/",
     "height": 0
    },
    "colab_type": "code",
    "hidden": true,
    "id": "rHTzvlB56FLA",
    "outputId": "48c92984-66cc-431d-b18b-2205e81d3ea1"
   },
   "outputs": [
    {
     "name": "stdout",
     "output_type": "stream",
     "text": [
      "{'title': 'The New York Python Meetup Group (New York, NY) | Meetup'}\n"
     ]
    }
   ],
   "source": [
    "records = {}\n",
    "\n",
    "# Try to find it in the soup\n",
    "tag_name = \"title\" \n",
    "\n",
    "result = soup.head.find(tag_name)\n",
    "\n",
    "if not result:\n",
    "    result = soup.find(\"meta\",  property=f\"og:{tag_name}\")\n",
    "    result = result.get(\"content\")\n",
    "    \n",
    "else:\n",
    "    result = result.text\n",
    "\n",
    "records.update(\n",
    "    {tag_name: result}\n",
    ")\n",
    "\n",
    "print(records)"
   ]
  },
  {
   "cell_type": "markdown",
   "metadata": {
    "colab_type": "text",
    "hidden": true,
    "id": "sjnojjsF6PLg"
   },
   "source": [
    "## Description"
   ]
  },
  {
   "cell_type": "code",
   "execution_count": 57,
   "metadata": {
    "colab": {
     "base_uri": "https://localhost:8080/",
     "height": 0
    },
    "colab_type": "code",
    "hidden": true,
    "id": "yI1BMGS76Q_f",
    "outputId": "b425a772-24cc-443f-fbe5-a6aa18766a24"
   },
   "outputs": [
    {
     "data": {
      "text/plain": [
       "{'title': 'The New York Python Meetup Group (New York, NY) | Meetup',\n",
       " 'description': 'Meet other local Python Programming Language enthusiasts!'}"
      ]
     },
     "execution_count": 57,
     "metadata": {},
     "output_type": "execute_result"
    }
   ],
   "source": [
    "# Try to find it in the soup\n",
    "tag_name = \"description\" \n",
    "\n",
    "result = soup.head.find(tag_name)\n",
    "\n",
    "if not result:\n",
    "    result = soup.find(\"meta\",  property=f\"og:{tag_name}\")\n",
    "    result = result.get(\"content\")\n",
    "    \n",
    "else:\n",
    "    result = result.text\n",
    "\n",
    "records.update(\n",
    "    {tag_name: result}\n",
    ")\n",
    "records"
   ]
  },
  {
   "cell_type": "markdown",
   "metadata": {
    "colab_type": "text",
    "hidden": true,
    "id": "sjFbO6BW6UqV"
   },
   "source": [
    "## Some Creepy Stuff"
   ]
  },
  {
   "cell_type": "markdown",
   "metadata": {
    "hidden": true
   },
   "source": [
    "### new_relic_tracking"
   ]
  },
  {
   "cell_type": "code",
   "execution_count": 58,
   "metadata": {
    "colab": {},
    "colab_type": "code",
    "hidden": true,
    "id": "ndA4rwuM6U_K"
   },
   "outputs": [],
   "source": [
    "new_relic_tracking = \"nr-data.net\""
   ]
  },
  {
   "cell_type": "code",
   "execution_count": 59,
   "metadata": {
    "colab": {
     "base_uri": "https://localhost:8080/",
     "height": 0
    },
    "colab_type": "code",
    "hidden": true,
    "id": "B2TrDKqT6XF6",
    "outputId": "9d15ea1d-15ff-47bb-fad1-7284001ff594"
   },
   "outputs": [
    {
     "data": {
      "text/plain": [
       "datetime.datetime(2020, 2, 12, 18, 55, 47, 585000)"
      ]
     },
     "execution_count": 59,
     "metadata": {},
     "output_type": "execute_result"
    }
   ],
   "source": [
    "creepy_script = \"https://bam.nr-data.net/1/74dcd635da?a=153043785&amp;v=1167.2a4546b&amp;to=YlwAbEtRV0VWVBJQCVsWLFdLXVhaXk0DXTNHUE0CTEJVWFZaAw%3D%3D&amp;rst=6985&amp;ref=https://www.meetup.com/nycpython/&amp;ap=2389.297138&amp;be=2727&amp;fe=6932&amp;dc=3741&amp;tt=fe428349575618&amp;af=err,xhr,stn,ins,spa&amp;perf=%7B%22timing%22:%7B%22of%22:1581551747585,%22n%22:0,%22f%22:4,%22dn%22:6,%22dne%22:25,%22c%22:25,%22s%22:44,%22ce%22:75,%22rq%22:76,%22rp%22:2657,%22rpe%22:2706,%22dl%22:2669,%22di%22:3741,%22ds%22:3742,%22de%22:3742,%22dc%22:6932,%22l%22:6932,%22le%22:6957%7D,%22navigation%22:%7B%7D%7D&amp;fp=3216&amp;fcp=3216&amp;ja=%7B%22timeToAppInteractive%22:4221.2949999957345%7D&amp;jsonp=NREUM.setToken\"\n",
    "creepy_query = urllib.parse.urlparse(creepy_script).query\n",
    "# creepy_query = urllib.parse.unquote(creepy_query)\n",
    "\n",
    "creepy_all_stuff = urllib.parse.parse_qs(creepy_query)\n",
    "\n",
    "creepy_perf = json.loads(creepy_all_stuff.get(\"perf\", [\"{}\"])[0])\n",
    "creepy_perf_timing = creepy_perf.get(\"timing\", {}).get(\"of\", None)\n",
    "creepy_perf_timing_dt = datetime.datetime.fromtimestamp(creepy_perf_timing/1000) if creepy_perf_timing else None\n",
    "\n",
    "creepy_perf_timing_dt"
   ]
  },
  {
   "cell_type": "code",
   "execution_count": 60,
   "metadata": {
    "colab": {
     "base_uri": "https://localhost:8080/",
     "height": 0
    },
    "colab_type": "code",
    "hidden": true,
    "id": "JV-41Ckf6SUk",
    "outputId": "0ed9e7bd-aaef-4ffd-834f-da2c9bf8f63d",
    "scrolled": false
   },
   "outputs": [
    {
     "data": {
      "text/plain": [
       "['window.NREUM||(NREUM={});NREUM.info = {\"agent\":\"\",\"beacon\":\"bam.nr-data.net\",\"errorBeacon\":\"bam.nr-data.net\",\"licenseKey\":\"74dcd635da\",\"applicationID\":\"153043785\",\"applicationTime\":1155.591843,\"transactionName\":\"YlwAbEtRV0VWVBJQCVsWLFdLXVhaXk0DXTNHUE0CTEJVWFZaAw==\",\"queueTime\":0,\"ttGuid\":\"1d8d3e5c4811\",\"agentToken\":null}; (window.NREUM||(NREUM={})).loader_config={xpid:\"VQQEWVFTCBABUVJSAwIAXlE=\",licenseKey:\"74dcd635da\",applicationID:\"153043785\"};window.NREUM||(NREUM={}),__nr_require=function(t,e,n){function r(n){if(!e[n]){var o=e[n]={exports:{}};t[n][0].call(o.exports,function(e){var o=t[n][1][e];return r(o||e)},o,o.exports)}return e[n].exports}if(\"function\"==typeof __nr_require)return __nr_require;for(var o=0;o<n.length;o++)r(n[o]);return r}({1:[function(t,e,n){function r(t){try{s.console&&console.log(t)}catch(e){}}var o,i=t(\"ee\"),a=t(25),s={};try{o=localStorage.getItem(\"__nr_flags\").split(\",\"),console&&\"function\"==typeof console.log&&(s.console=!0,o.indexOf(\"dev\")!==-1&&(s.dev=!0),o.indexOf(\"nr_dev\")!==-1&&(s.nrDev=!0))}catch(c){}s.nrDev&&i.on(\"internal-error\",function(t){r(t.stack)}),s.dev&&i.on(\"fn-err\",function(t,e,n){r(n.stack)}),s.dev&&(r(\"NR AGENT IN DEVELOPMENT MODE\"),r(\"flags: \"+a(s,function(t,e){return t}).join(\", \")))},{}],2:[function(t,e,n){function r(t,e,n,r,s){try{l?l-=1:o(s||new UncaughtException(t,e,n),!0)}catch(f){try{i(\"ierr\",[f,c.now(),!0])}catch(d){}}return\"function\"==typeof u&&u.apply(this,a(arguments))}function UncaughtException(t,e,n){this.message=t||\"Uncaught error with no additional information\",this.sourceURL=e,this.line=n}function o(t,e){var n=e?null:c.now();i(\"err\",[t,n])}var i=t(\"handle\"),a=t(26),s=t(\"ee\"),c=t(\"loader\"),f=t(\"gos\"),u=window.onerror,d=!1,p=\"nr@seenError\",l=0;c.features.err=!0,t(1),window.onerror=r;try{throw new Error}catch(h){\"stack\"in h&&(t(13),t(12),\"addEventListener\"in window&&t(6),c.xhrWrappable&&t(14),d=!0)}s.on(\"fn-start\",function(t,e,n){d&&(l+=1)}),s.on(\"fn-err\",function(t,e,n){d&&!n[p]&&(f(n,p,function(){return!0}),this.thrown=!0,o(n))}),s.on(\"fn-end\",function(){d&&!this.thrown&&l>0&&(l-=1)}),s.on(\"internal-error\",function(t){i(\"ierr\",[t,c.now(),!0])})},{}],3:[function(t,e,n){t(\"loader\").features.ins=!0},{}],4:[function(t,e,n){function r(){L++,C=g.hash,this[u]=y.now()}function o(){L--,g.hash!==C&&i(0,!0);var t=y.now();this[h]=~~this[h]+t-this[u],this[d]=t}function i(t,e){E.emit(\"newURL\",[\"\"+g,e])}function a(t,e){t.on(e,function(){this[e]=y.now()})}var s=\"-start\",c=\"-end\",f=\"-body\",u=\"fn\"+s,d=\"fn\"+c,p=\"cb\"+s,l=\"cb\"+c,h=\"jsTime\",m=\"fetch\",v=\"addEventListener\",w=window,g=w.location,y=t(\"loader\");if(w[v]&&y.xhrWrappable){var x=t(10),b=t(11),E=t(8),O=t(6),R=t(13),P=t(7),T=t(14),N=t(9),M=t(\"ee\"),S=M.get(\"tracer\");t(16),y.features.spa=!0;var C,L=0;M.on(u,r),M.on(p,r),M.on(d,o),M.on(l,o),M.buffer([u,d,\"xhr-done\",\"xhr-resolved\"]),O.buffer([u]),R.buffer([\"setTimeout\"+c,\"clearTimeout\"+s,u]),T.buffer([u,\"new-xhr\",\"send-xhr\"+s]),P.buffer([m+s,m+\"-done\",m+f+s,m+f+c]),E.buffer([\"newURL\"]),x.buffer([u]),b.buffer([\"propagate\",p,l,\"executor-err\",\"resolve\"+s]),S.buffer([u,\"no-\"+u]),N.buffer([\"new-jsonp\",\"cb-start\",\"jsonp-error\",\"jsonp-end\"]),a(T,\"send-xhr\"+s),a(M,\"xhr-resolved\"),a(M,\"xhr-done\"),a(P,m+s),a(P,m+\"-done\"),a(N,\"new-jsonp\"),a(N,\"jsonp-end\"),a(N,\"cb-start\"),E.on(\"pushState-end\",i),E.on(\"replaceState-end\",i),w[v](\"hashchange\",i,!0),w[v](\"load\",i,!0),w[v](\"popstate\",function(){i(0,L>1)},!0)}},{}],5:[function(t,e,n){function r(t){}if(window.performance&&window.performance.timing&&window.performance.getEntriesByType){var o=t(\"ee\"),i=t(\"handle\"),a=t(13),s=t(12),c=\"learResourceTimings\",f=\"addEventListener\",u=\"resourcetimingbufferfull\",d=\"bstResource\",p=\"resource\",l=\"-start\",h=\"-end\",m=\"fn\"+l,v=\"fn\"+h,w=\"bstTimer\",g=\"pushState\",y=t(\"loader\");y.features.stn=!0,t(8),\"addEventListener\"in window&&t(6);var x=NREUM.o.EV;o.on(m,function(t,e){var n=t[0];n instanceof x&&(this.bstStart=y.now())}),o.on(v,function(t,e){var n=t[0];n instanceof x&&i(\"bst\",[n,e,this.bstStart,y.now()])}),a.on(m,function(t,e,n){this.bstStart=y.now(),this.bstType=n}),a.on(v,function(t,e){i(w,[e,this.bstStart,y.now(),this.bstType])}),s.on(m,function(){this.bstStart=y.now()}),s.on(v,function(t,e){i(w,[e,this.bstStart,y.now(),\"requestAnimationFrame\"])}),o.on(g+l,function(t){this.time=y.now(),this.startPath=location.pathname+location.hash}),o.on(g+h,function(t){i(\"bstHist\",[location.pathname+location.hash,this.startPath,this.time])}),f in window.performance&&(window.performance[\"c\"+c]?window.performance[f](u,function(t){i(d,[window.performance.getEntriesByType(p)]),window.performance[\"c\"+c]()},!1):window.performance[f](\"webkit\"+u,function(t){i(d,[window.performance.getEntriesByType(p)]),window.performance[\"webkitC\"+c]()},!1)),document[f](\"scroll\",r,{passive:!0}),document[f](\"keypress\",r,!1),document[f](\"click\",r,!1)}},{}],6:[function(t,e,n){function r(t){for(var e=t;e&&!e.hasOwnProperty(u);)e=Object.getPrototypeOf(e);e&&o(e)}function o(t){s.inPlace(t,[u,d],\"-\",i)}function i(t,e){return t[1]}var a=t(\"ee\").get(\"events\"),s=t(\"wrap-function\")(a,!0),c=t(\"gos\"),f=XMLHttpRequest,u=\"addEventListener\",d=\"removeEventListener\";e.exports=a,\"getPrototypeOf\"in Object?(r(document),r(window),r(f.prototype)):f.prototype.hasOwnProperty(u)&&(o(window),o(f.prototype)),a.on(u+\"-start\",function(t,e){var n=t[1],r=c(n,\"nr@wrapped\",function(){function t(){if(\"function\"==typeof n.handleEvent)return n.handleEvent.apply(n,arguments)}var e={object:t,\"function\":n}[typeof n];return e?s(e,\"fn-\",null,e.name||\"anonymous\"):n});this.wrapped=t[1]=r}),a.on(d+\"-start\",function(t){t[1]=this.wrapped||t[1]})},{}],7:[function(t,e,n){function r(t,e,n){var r=t[e];\"function\"==typeof r&&(t[e]=function(){var t=i(arguments),e={};o.emit(n+\"before-start\",[t],e);var a;e[m]&&e[m].dt&&(a=e[m].dt);var s=r.apply(this,t);return o.emit(n+\"start\",[t,a],s),s.then(function(t){return o.emit(n+\"end\",[null,t],s),t},function(t){throw o.emit(n+\"end\",[t],s),t})})}var o=t(\"ee\").get(\"fetch\"),i=t(26),a=t(25);e.exports=o;var s=window,c=\"fetch-\",f=c+\"body-\",u=[\"arrayBuffer\",\"blob\",\"json\",\"text\",\"formData\"],d=s.Request,p=s.Response,l=s.fetch,h=\"prototype\",m=\"nr@context\";d&&p&&l&&(a(u,function(t,e){r(d[h],e,f),r(p[h],e,f)}),r(s,\"fetch\",c),o.on(c+\"end\",function(t,e){var n=this;if(e){var r=e.headers.get(\"content-length\");null!==r&&(n.rxSize=r),o.emit(c+\"done\",[null,e],n)}else o.emit(c+\"done\",[t],n)}))},{}],8:[function(t,e,n){var r=t(\"ee\").get(\"history\"),o=t(\"wrap-function\")(r);e.exports=r;var i=window.history&&window.history.constructor&&window.history.constructor.prototype,a=window.history;i&&i.pushState&&i.replaceState&&(a=i),o.inPlace(a,[\"pushState\",\"replaceState\"],\"-\")},{}],9:[function(t,e,n){function r(t){function e(){c.emit(\"jsonp-end\",[],p),t.removeEventListener(\"load\",e,!1),t.removeEventListener(\"error\",n,!1)}function n(){c.emit(\"jsonp-error\",[],p),c.emit(\"jsonp-end\",[],p),t.removeEventListener(\"load\",e,!1),t.removeEventListener(\"error\",n,!1)}var r=t&&\"string\"==typeof t.nodeName&&\"script\"===t.nodeName.toLowerCase();if(r){var o=\"function\"==typeof t.addEventListener;if(o){var a=i(t.src);if(a){var u=s(a),d=\"function\"==typeof u.parent[u.key];if(d){var p={};f.inPlace(u.parent,[u.key],\"cb-\",p),t.addEventListener(\"load\",e,!1),t.addEventListener(\"error\",n,!1),c.emit(\"new-jsonp\",[t.src],p)}}}}}function o(){return\"addEventListener\"in window}function i(t){var e=t.match(u);return e?e[1]:null}function a(t,e){var n=t.match(p),r=n[1],o=n[3];return o?a(o,e[r]):e[r]}function s(t){var e=t.match(d);return e&&e.length>=3?{key:e[2],parent:a(e[1],window)}:{key:t,parent:window}}var c=t(\"ee\").get(\"jsonp\"),f=t(\"wrap-function\")(c);if(e.exports=c,o()){var u=/[?&](?:callback|cb)=([^&#]+)/,d=/(.*)\\\\.([^.]+)/,p=/^(\\\\w+)(\\\\.|$)(.*)$/,l=[\"appendChild\",\"insertBefore\",\"replaceChild\"];Node&&Node.prototype&&Node.prototype.appendChild?f.inPlace(Node.prototype,l,\"dom-\"):(f.inPlace(HTMLElement.prototype,l,\"dom-\"),f.inPlace(HTMLHeadElement.prototype,l,\"dom-\"),f.inPlace(HTMLBodyElement.prototype,l,\"dom-\")),c.on(\"dom-start\",function(t){r(t[0])})}},{}],10:[function(t,e,n){var r=t(\"ee\").get(\"mutation\"),o=t(\"wrap-function\")(r),i=NREUM.o.MO;e.exports=r,i&&(window.MutationObserver=function(t){return this instanceof i?new i(o(t,\"fn-\")):i.apply(this,arguments)},MutationObserver.prototype=i.prototype)},{}],11:[function(t,e,n){function r(t){var e=a.context(),n=s(t,\"executor-\",e),r=new f(n);return a.context(r).getCtx=function(){return e},a.emit(\"new-promise\",[r,e],e),r}function o(t,e){return e}var i=t(\"wrap-function\"),a=t(\"ee\").get(\"promise\"),s=i(a),c=t(25),f=NREUM.o.PR;e.exports=a,f&&(window.Promise=r,[\"all\",\"race\"].forEach(function(t){var e=f[t];f[t]=function(n){function r(t){return function(){a.emit(\"propagate\",[null,!o],i),o=o||!t}}var o=!1;c(n,function(e,n){Promise.resolve(n).then(r(\"all\"===t),r(!1))});var i=e.apply(f,arguments),s=f.resolve(i);return s}}),[\"resolve\",\"reject\"].forEach(function(t){var e=f[t];f[t]=function(t){var n=e.apply(f,arguments);return t!==n&&a.emit(\"propagate\",[t,!0],n),n}}),f.prototype[\"catch\"]=function(t){return this.then(null,t)},f.prototype=Object.create(f.prototype,{constructor:{value:r}}),c(Object.getOwnPropertyNames(f),function(t,e){try{r[e]=f[e]}catch(n){}}),a.on(\"executor-start\",function(t){t[0]=s(t[0],\"resolve-\",this),t[1]=s(t[1],\"resolve-\",this)}),a.on(\"executor-err\",function(t,e,n){t[1](n)}),s.inPlace(f.prototype,[\"then\"],\"then-\",o),a.on(\"then-start\",function(t,e){this.promise=e,t[0]=s(t[0],\"cb-\",this),t[1]=s(t[1],\"cb-\",this)}),a.on(\"then-end\",function(t,e,n){this.nextPromise=n;var r=this.promise;a.emit(\"propagate\",[r,!0],n)}),a.on(\"cb-end\",function(t,e,n){a.emit(\"propagate\",[n,!0],this.nextPromise)}),a.on(\"propagate\",function(t,e,n){this.getCtx&&!e||(this.getCtx=function(){if(t instanceof Promise)var e=a.context(t);return e&&e.getCtx?e.getCtx():this})}),r.toString=function(){return\"\"+f})},{}],12:[function(t,e,n){var r=t(\"ee\").get(\"raf\"),o=t(\"wrap-function\")(r),i=\"equestAnimationFrame\";e.exports=r,o.inPlace(window,[\"r\"+i,\"mozR\"+i,\"webkitR\"+i,\"msR\"+i],\"raf-\"),r.on(\"raf-start\",function(t){t[0]=o(t[0],\"fn-\")})},{}],13:[function(t,e,n){function r(t,e,n){t[0]=a(t[0],\"fn-\",null,n)}function o(t,e,n){this.method=n,this.timerDuration=isNaN(t[1])?0:+t[1],t[0]=a(t[0],\"fn-\",this,n)}var i=t(\"ee\").get(\"timer\"),a=t(\"wrap-function\")(i),s=\"setTimeout\",c=\"setInterval\",f=\"clearTimeout\",u=\"-start\",d=\"-\";e.exports=i,a.inPlace(window,[s,\"setImmediate\"],s+d),a.inPlace(window,[c],c+d),a.inPlace(window,[f,\"clearImmediate\"],f+d),i.on(c+u,r),i.on(s+u,o)},{}],14:[function(t,e,n){function r(t,e){d.inPlace(e,[\"onreadystatechange\"],\"fn-\",s)}function o(){var t=this,e=u.context(t);t.readyState>3&&!e.resolved&&(e.resolved=!0,u.emit(\"xhr-resolved\",[],t)),d.inPlace(t,g,\"fn-\",s)}function i(t){y.push(t),h&&(b?b.then(a):v?v(a):(E=-E,O.data=E))}function a(){for(var t=0;t<y.length;t++)r([],y[t]);y.length&&(y=[])}function s(t,e){return e}function c(t,e){for(var n in t)e[n]=t[n];return e}t(6);var f=t(\"ee\"),u=f.get(\"xhr\"),d=t(\"wrap-function\")(u),p=NREUM.o,l=p.XHR,h=p.MO,m=p.PR,v=p.SI,w=\"readystatechange\",g=[\"onload\",\"onerror\",\"onabort\",\"onloadstart\",\"onloadend\",\"onprogress\",\"ontimeout\"],y=[];e.exports=u;var x=window.XMLHttpRequest=function(t){var e=new l(t);try{u.emit(\"new-xhr\",[e],e),e.addEventListener(w,o,!1)}catch(n){try{u.emit(\"internal-error\",[n])}catch(r){}}return e};if(c(l,x),x.prototype=l.prototype,d.inPlace(x.prototype,[\"open\",\"send\"],\"-xhr-\",s),u.on(\"send-xhr-start\",function(t,e){r(t,e),i(e)}),u.on(\"open-xhr-start\",r),h){var b=m&&m.resolve();if(!v&&!m){var E=1,O=document.createTextNode(E);new h(a).observe(O,{characterData:!0})}}else f.on(\"fn-end\",function(t){t[0]&&t[0].type===w||a()})},{}],15:[function(t,e,n){function r(t){if(!i(t))return null;var e=window.NREUM;if(!e.loader_config)return null;var n=(e.loader_config.accountID||\"\").toString()||null,r=(e.loader_config.agentID||\"\").toString()||null,s=(e.loader_config.trustKey||\"\").toString()||null;if(!n||!r)return null;var c=a.generateCatId(),f=a.generateCatId(),u=Date.now(),d=o(c,f,u,n,r,s);return{header:d,guid:c,traceId:f,timestamp:u}}function o(t,e,n,r,o,i){var a=\"btoa\"in window&&\"function\"==typeof window.btoa;if(!a)return null;var s={v:[0,1],d:{ty:\"Browser\",ac:r,ap:o,id:t,tr:e,ti:n}};return i&&r!==i&&(s.d.tk=i),btoa(JSON.stringify(s))}function i(t){var e=!1,n=!1,r={};if(\"init\"in NREUM&&\"distributed_tracing\"in NREUM.init&&(r=NREUM.init.distributed_tracing,n=!!r.enabled),n)if(t.sameOrigin)e=!0;else if(r.allowed_origins instanceof Array)for(var o=0;o<r.allowed_origins.length;o++){var i=s(r.allowed_origins[o]);if(t.hostname===i.hostname&&t.protocol===i.protocol&&t.port===i.port){e=!0;break}}return n&&e}var a=t(23),s=t(17);e.exports={generateTracePayload:r,shouldGenerateTrace:i}},{}],16:[function(t,e,n){function r(t){var e=this.params,n=this.metrics;if(!this.ended){this.ended=!0;for(var r=0;r<p;r++)t.removeEventListener(d[r],this.listener,!1);e.aborted||(n.duration=a.now()-this.startTime,this.loadCaptureCalled||4!==t.readyState?null==e.status&&(e.status=0):i(this,t),n.cbTime=this.cbTime,u.emit(\"xhr-done\",[t],t),s(\"xhr\",[e,n,this.startTime]))}}function o(t,e){var n=c(e),r=t.params;r.host=n.hostname+\":\"+n.port,r.pathname=n.pathname,t.parsedOrigin=c(e),t.sameOrigin=t.parsedOrigin.sameOrigin}function i(t,e){t.params.status=e.status;var n=v(e,t.lastSize);if(n&&(t.metrics.rxSize=n),t.sameOrigin){var r=e.getResponseHeader(\"X-NewRelic-App-Data\");r&&(t.params.cat=r.split(\", \").pop())}t.loadCaptureCalled=!0}var a=t(\"loader\");if(a.xhrWrappable){var s=t(\"handle\"),c=t(17),f=t(15).generateTracePayload,u=t(\"ee\"),d=[\"load\",\"error\",\"abort\",\"timeout\"],p=d.length,l=t(\"id\"),h=t(21),m=t(20),v=t(18),w=window.XMLHttpRequest;a.features.xhr=!0,t(14),t(7),u.on(\"new-xhr\",function(t){var e=this;e.totalCbs=0,e.called=0,e.cbTime=0,e.end=r,e.ended=!1,e.xhrGuids={},e.lastSize=null,e.loadCaptureCalled=!1,t.addEventListener(\"load\",function(n){i(e,t)},!1),h&&(h>34||h<10)||window.opera||t.addEventListener(\"progress\",function(t){e.lastSize=t.loaded},!1)}),u.on(\"open-xhr-start\",function(t){this.params={method:t[0]},o(this,t[1]),this.metrics={}}),u.on(\"open-xhr-end\",function(t,e){\"loader_config\"in NREUM&&\"xpid\"in NREUM.loader_config&&this.sameOrigin&&e.setRequestHeader(\"X-NewRelic-ID\",NREUM.loader_config.xpid);var n=f(this.parsedOrigin);n&&n.header&&(e.setRequestHeader(\"newrelic\",n.header),this.dt=n)}),u.on(\"send-xhr-start\",function(t,e){var n=this.metrics,r=t[0],o=this;if(n&&r){var i=m(r);i&&(n.txSize=i)}this.startTime=a.now(),this.listener=function(t){try{\"abort\"!==t.type||o.loadCaptureCalled||(o.params.aborted=!0),(\"load\"!==t.type||o.called===o.totalCbs&&(o.onloadCalled||\"function\"!=typeof e.onload))&&o.end(e)}catch(n){try{u.emit(\"internal-error\",[n])}catch(r){}}};for(var s=0;s<p;s++)e.addEventListener(d[s],this.listener,!1)}),u.on(\"xhr-cb-time\",function(t,e,n){this.cbTime+=t,e?this.onloadCalled=!0:this.called+=1,this.called!==this.totalCbs||!this.onloadCalled&&\"function\"==typeof n.onload||this.end(n)}),u.on(\"xhr-load-added\",function(t,e){var n=\"\"+l(t)+!!e;this.xhrGuids&&!this.xhrGuids[n]&&(this.xhrGuids[n]=!0,this.totalCbs+=1)}),u.on(\"xhr-load-removed\",function(t,e){var n=\"\"+l(t)+!!e;this.xhrGuids&&this.xhrGuids[n]&&(delete this.xhrGuids[n],this.totalCbs-=1)}),u.on(\"addEventListener-end\",function(t,e){e instanceof w&&\"load\"===t[0]&&u.emit(\"xhr-load-added\",[t[1],t[2]],e)}),u.on(\"removeEventListener-end\",function(t,e){e instanceof w&&\"load\"===t[0]&&u.emit(\"xhr-load-removed\",[t[1],t[2]],e)}),u.on(\"fn-start\",function(t,e,n){e instanceof w&&(\"onload\"===n&&(this.onload=!0),(\"load\"===(t[0]&&t[0].type)||this.onload)&&(this.xhrCbStart=a.now()))}),u.on(\"fn-end\",function(t,e){this.xhrCbStart&&u.emit(\"xhr-cb-time\",[a.now()-this.xhrCbStart,this.onload,e],e)}),u.on(\"fetch-before-start\",function(t){var e,n=t[1]||{};\"string\"==typeof t[0]?e=t[0]:t[0]&&t[0].url&&(e=t[0].url),e&&(this.parsedOrigin=c(e),this.sameOrigin=this.parsedOrigin.sameOrigin);var r=f(this.parsedOrigin);if(r&&r.header){var o=r.header;if(\"string\"==typeof t[0]){var i={};for(var a in n)i[a]=n[a];i.headers=new Headers(n.headers||{}),i.headers.set(\"newrelic\",o),this.dt=r,t.length>1?t[1]=i:t.push(i)}else t[0]&&t[0].headers&&(t[0].headers.append(\"newrelic\",o),this.dt=r)}})}},{}],17:[function(t,e,n){var r={};e.exports=function(t){if(t in r)return r[t];var e=document.createElement(\"a\"),n=window.location,o={};e.href=t,o.port=e.port;var i=e.href.split(\"://\");!o.port&&i[1]&&(o.port=i[1].split(\"/\")[0].split(\"@\").pop().split(\":\")[1]),o.port&&\"0\"!==o.port||(o.port=\"https\"===i[0]?\"443\":\"80\"),o.hostname=e.hostname||n.hostname,o.pathname=e.pathname,o.protocol=i[0],\"/\"!==o.pathname.charAt(0)&&(o.pathname=\"/\"+o.pathname);var a=!e.protocol||\":\"===e.protocol||e.protocol===n.protocol,s=e.hostname===document.domain&&e.port===n.port;return o.sameOrigin=a&&(!e.hostname||s),\"/\"===o.pathname&&(r[t]=o),o}},{}],18:[function(t,e,n){function r(t,e){var n=t.responseType;return\"json\"===n&&null!==e?e:\"arraybuffer\"===n||\"blob\"===n||\"json\"===n?o(t.response):\"text\"===n||\"document\"===n||\"\"===n||void 0===n?o(t.responseText):void 0}var o=t(20);e.exports=r},{}],19:[function(t,e,n){function r(){}function o(t,e,n){return function(){return i(t,[f.now()].concat(s(arguments)),e?null:this,n),e?void 0:this}}var i=t(\"handle\"),a=t(25),s=t(26),c=t(\"ee\").get(\"tracer\"),f=t(\"loader\"),u=NREUM;\"undefined\"==typeof window.newrelic&&(newrelic=u);var d=[\"setPageViewName\",\"setCustomAttribute\",\"setErrorHandler\",\"finished\",\"addToTrace\",\"inlineHit\",\"addRelease\"],p=\"api-\",l=p+\"ixn-\";a(d,function(t,e){u[e]=o(p+e,!0,\"api\")}),u.addPageAction=o(p+\"addPageAction\",!0),u.setCurrentRouteName=o(p+\"routeName\",!0),e.exports=newrelic,u.interaction=function(){return(new r).get()};var h=r.prototype={createTracer:function(t,e){var n={},r=this,o=\"function\"==typeof e;return i(l+\"tracer\",[f.now(),t,n],r),function(){if(c.emit((o?\"\":\"no-\")+\"fn-start\",[f.now(),r,o],n),o)try{return e.apply(this,arguments)}catch(t){throw c.emit(\"fn-err\",[arguments,this,t],n),t}finally{c.emit(\"fn-end\",[f.now()],n)}}}};a(\"actionText,setName,setAttribute,save,ignore,onEnd,getContext,end,get\".split(\",\"),function(t,e){h[e]=o(l+e)}),newrelic.noticeError=function(t,e){\"string\"==typeof t&&(t=new Error(t)),i(\"err\",[t,f.now(),!1,e])}},{}],20:[function(t,e,n){e.exports=function(t){if(\"string\"==typeof t&&t.length)return t.length;if(\"object\"==typeof t){if(\"undefined\"!=typeof ArrayBuffer&&t instanceof ArrayBuffer&&t.byteLength)return t.byteLength;if(\"undefined\"!=typeof Blob&&t instanceof Blob&&t.size)return t.size;if(!(\"undefined\"!=typeof FormData&&t instanceof FormData))try{return JSON.stringify(t).length}catch(e){return}}}},{}],21:[function(t,e,n){var r=0,o=navigator.userAgent.match(/Firefox[\\\\/\\\\s](\\\\d+\\\\.\\\\d+)/);o&&(r=+o[1]),e.exports=r},{}],22:[function(t,e,n){function r(t,e){var n=t.getEntries();n.forEach(function(t){\"first-paint\"===t.name?c(\"timing\",[\"fp\",Math.floor(t.startTime)]):\"first-contentful-paint\"===t.name&&c(\"timing\",[\"fcp\",Math.floor(t.startTime)])})}function o(t,e){var n=t.getEntries();n.length>0&&c(\"lcp\",[n[n.length-1]])}function i(t){if(t instanceof u&&!p){var e,n=Math.round(t.timeStamp);e=n>1e12?Date.now()-n:f.now()-n,p=!0,c(\"timing\",[\"fi\",n,{type:t.type,fid:e}])}}if(!(\"init\"in NREUM&&\"page_view_timing\"in NREUM.init&&\"enabled\"in NREUM.init.page_view_timing&&NREUM.init.page_view_timing.enabled===!1)){var a,s,c=t(\"handle\"),f=t(\"loader\"),u=NREUM.o.EV;if(\"PerformanceObserver\"in window&&\"function\"==typeof window.PerformanceObserver){a=new PerformanceObserver(r),s=new PerformanceObserver(o);try{a.observe({entryTypes:[\"paint\"]}),s.observe({entryTypes:[\"largest-contentful-paint\"]})}catch(d){}}if(\"addEventListener\"in document){var p=!1,l=[\"click\",\"keydown\",\"mousedown\",\"pointerdown\",\"touchstart\"];l.forEach(function(t){document.addEventListener(t,i,!1)})}}},{}],23:[function(t,e,n){function r(){function t(){return e?15&e[n++]:16*Math.random()|0}var e=null,n=0,r=window.crypto||window.msCrypto;r&&r.getRandomValues&&(e=r.getRandomValues(new Uint8Array(31)));for(var o,i=\"xxxxxxxx-xxxx-4xxx-yxxx-xxxxxxxxxxxx\",a=\"\",s=0;s<i.length;s++)o=i[s],\"x\"===o?a+=t().toString(16):\"y\"===o?(o=3&t()|8,a+=o.toString(16)):a+=o;return a}function o(){function t(){return e?15&e[n++]:16*Math.random()|0}var e=null,n=0,r=window.crypto||window.msCrypto;r&&r.getRandomValues&&Uint8Array&&(e=r.getRandomValues(new Uint8Array(31)));for(var o=[],i=0;i<16;i++)o.push(t().toString(16));return o.join(\"\")}e.exports={generateUuid:r,generateCatId:o}},{}],24:[function(t,e,n){function r(t,e){if(!o)return!1;if(t!==o)return!1;if(!e)return!0;if(!i)return!1;for(var n=i.split(\".\"),r=e.split(\".\"),a=0;a<r.length;a++)if(r[a]!==n[a])return!1;return!0}var o=null,i=null,a=/Version\\\\/(\\\\S+)\\\\s+Safari/;if(navigator.userAgent){var s=navigator.userAgent,c=s.match(a);c&&s.indexOf(\"Chrome\")===-1&&s.indexOf(\"Chromium\")===-1&&(o=\"Safari\",i=c[1])}e.exports={agent:o,version:i,match:r}},{}],25:[function(t,e,n){function r(t,e){var n=[],r=\"\",i=0;for(r in t)o.call(t,r)&&(n[i]=e(r,t[r]),i+=1);return n}var o=Object.prototype.hasOwnProperty;e.exports=r},{}],26:[function(t,e,n){function r(t,e,n){e||(e=0),\"undefined\"==typeof n&&(n=t?t.length:0);for(var r=-1,o=n-e||0,i=Array(o<0?0:o);++r<o;)i[r]=t[e+r];return i}e.exports=r},{}],27:[function(t,e,n){e.exports={exists:\"undefined\"!=typeof window.performance&&window.performance.timing&&\"undefined\"!=typeof window.performance.timing.navigationStart}},{}],ee:[function(t,e,n){function r(){}function o(t){function e(t){return t&&t instanceof r?t:t?c(t,s,i):i()}function n(n,r,o,i){if(!p.aborted||i){t&&t(n,r,o);for(var a=e(o),s=m(n),c=s.length,f=0;f<c;f++)s[f].apply(a,r);var d=u[y[n]];return d&&d.push([x,n,r,a]),a}}function l(t,e){g[t]=m(t).concat(e)}function h(t,e){var n=g[t];if(n)for(var r=0;r<n.length;r++)n[r]===e&&n.splice(r,1)}function m(t){return g[t]||[]}function v(t){return d[t]=d[t]||o(n)}function w(t,e){f(t,function(t,n){e=e||\"feature\",y[n]=e,e in u||(u[e]=[])})}var g={},y={},x={on:l,addEventListener:l,removeEventListener:h,emit:n,get:v,listeners:m,context:e,buffer:w,abort:a,aborted:!1};return x}function i(){return new r}function a(){(u.api||u.feature)&&(p.aborted=!0,u=p.backlog={})}var s=\"nr@context\",c=t(\"gos\"),f=t(25),u={},d={},p=e.exports=o();p.backlog=u},{}],gos:[function(t,e,n){function r(t,e,n){if(o.call(t,e))return t[e];var r=n();if(Object.defineProperty&&Object.keys)try{return Object.defineProperty(t,e,{value:r,writable:!0,enumerable:!1}),r}catch(i){}return t[e]=r,r}var o=Object.prototype.hasOwnProperty;e.exports=r},{}],handle:[function(t,e,n){function r(t,e,n,r){o.buffer([t],r),o.emit(t,e,n)}var o=t(\"ee\").get(\"handle\");e.exports=r,r.ee=o},{}],id:[function(t,e,n){function r(t){var e=typeof t;return!t||\"object\"!==e&&\"function\"!==e?-1:t===window?0:a(t,i,function(){return o++})}var o=1,i=\"nr@id\",a=t(\"gos\");e.exports=r},{}],loader:[function(t,e,n){function r(){if(!E++){var t=b.info=NREUM.info,e=l.getElementsByTagName(\"script\")[0];if(setTimeout(u.abort,3e4),!(t&&t.licenseKey&&t.applicationID&&e))return u.abort();f(y,function(e,n){t[e]||(t[e]=n)}),c(\"mark\",[\"onload\",a()+b.offset],null,\"api\");var n=l.createElement(\"script\");n.src=\"https://\"+t.agent,e.parentNode.insertBefore(n,e)}}function o(){\"complete\"===l.readyState&&i()}function i(){c(\"mark\",[\"domContent\",a()+b.offset],null,\"api\")}function a(){return O.exists&&performance.now?Math.round(performance.now()):(s=Math.max((new Date).getTime(),s))-b.offset}var s=(new Date).getTime(),c=t(\"handle\"),f=t(25),u=t(\"ee\"),d=t(24),p=window,l=p.document,h=\"addEventListener\",m=\"attachEvent\",v=p.XMLHttpRequest,w=v&&v.prototype;NREUM.o={ST:setTimeout,SI:p.setImmediate,CT:clearTimeout,XHR:v,REQ:p.Request,EV:p.Event,PR:p.Promise,MO:p.MutationObserver};var g=\"\"+location,y={beacon:\"bam.nr-data.net\",errorBeacon:\"bam.nr-data.net\",agent:\"js-agent.newrelic.com/nr-spa-1167.min.js\"},x=v&&w&&w[h]&&!/CriOS/.test(navigator.userAgent),b=e.exports={offset:s,now:a,origin:g,features:{},xhrWrappable:x,userAgent:d};t(19),t(22),l[h]?(l[h](\"DOMContentLoaded\",i,!1),p[h](\"load\",r,!1)):(l[m](\"onreadystatechange\",o),p[m](\"onload\",r)),c(\"mark\",[\"firstbyte\",s],null,\"api\");var E=0,O=t(27)},{}],\"wrap-function\":[function(t,e,n){function r(t){return!(t&&t instanceof Function&&t.apply&&!t[a])}var o=t(\"ee\"),i=t(26),a=\"nr@original\",s=Object.prototype.hasOwnProperty,c=!1;e.exports=function(t,e){function n(t,e,n,o){function nrWrapper(){var r,a,s,c;try{a=this,r=i(arguments),s=\"function\"==typeof n?n(r,a):n||{}}catch(f){p([f,\"\",[r,a,o],s])}u(e+\"start\",[r,a,o],s);try{return c=t.apply(a,r)}catch(d){throw u(e+\"err\",[r,a,d],s),d}finally{u(e+\"end\",[r,a,c],s)}}return r(t)?t:(e||(e=\"\"),nrWrapper[a]=t,d(t,nrWrapper),nrWrapper)}function f(t,e,o,i){o||(o=\"\");var a,s,c,f=\"-\"===o.charAt(0);for(c=0;c<e.length;c++)s=e[c],a=t[s],r(a)||(t[s]=n(a,f?s+o:o,i,s))}function u(n,r,o){if(!c||e){var i=c;c=!0;try{t.emit(n,r,o,e)}catch(a){p([a,n,r,o])}c=i}}function d(t,e){if(Object.defineProperty&&Object.keys)try{var n=Object.keys(t);return n.forEach(function(n){Object.defineProperty(e,n,{get:function(){return t[n]},set:function(e){return t[n]=e,e}})}),e}catch(r){p([r])}for(var o in t)s.call(t,o)&&(e[o]=t[o]);return e}function p(e){try{t.emit(\"internal-error\",e)}catch(n){}}return t||(t=o),n.inPlace=f,n.flag=a,n}},{}]},{},[\"loader\",2,16,5,3,4]);']"
      ]
     },
     "execution_count": 60,
     "metadata": {},
     "output_type": "execute_result"
    }
   ],
   "source": [
    "pattern = re.compile(new_relic_tracking)\n",
    "\n",
    "# Trying to find this:\n",
    "soup.head.find_all(text=pattern)"
   ]
  },
  {
   "cell_type": "markdown",
   "metadata": {
    "colab_type": "text",
    "hidden": true,
    "id": "5w18swJE6d7O"
   },
   "source": [
    "## Links and Stuff"
   ]
  },
  {
   "cell_type": "code",
   "execution_count": 77,
   "metadata": {
    "colab": {},
    "colab_type": "code",
    "hidden": true,
    "id": "F6suTkE16fA8"
   },
   "outputs": [
    {
     "data": {
      "text/plain": [
       "{'n_links': 69}"
      ]
     },
     "execution_count": 77,
     "metadata": {},
     "output_type": "execute_result"
    }
   ],
   "source": [
    "all_links = soup.find_all(\"a\")\n",
    "\n",
    "records.update({\"n_links\":len(all_links)})\n",
    "\n",
    "records"
   ]
  },
  {
   "cell_type": "code",
   "execution_count": 78,
   "metadata": {
    "colab": {},
    "colab_type": "code",
    "hidden": true,
    "id": "_f4wWwcw6gSI"
   },
   "outputs": [],
   "source": [
    "# We want the hrefs from the soup objects:\n",
    "all_links_href = [x.get(\"href\",None) for x in all_links]"
   ]
  },
  {
   "cell_type": "code",
   "execution_count": 79,
   "metadata": {
    "colab": {
     "base_uri": "https://localhost:8080/",
     "height": 0
    },
    "colab_type": "code",
    "hidden": true,
    "id": "j0NP3onD6jg-",
    "outputId": "04ddbc49-a6ff-4efd-f107-c2d16a8e8a22"
   },
   "outputs": [
    {
     "data": {
      "text/plain": [
       "{'n_links': 69,\n",
       " 'twitter': 'https://twitter.com/Meetup/',\n",
       " 'facebook': 'https://www.facebook.com/meetup/',\n",
       " 'youtube': 'https://www.youtube.com/meetup',\n",
       " 'instagram': 'https://www.instagram.com/meetup/',\n",
       " 'medium': 'https://medium.com/meetup'}"
      ]
     },
     "execution_count": 79,
     "metadata": {},
     "output_type": "execute_result"
    }
   ],
   "source": [
    "# Get social media links\n",
    "pattern = re.compile(\"(facebook|youtube|instagram|twitter|medium)\")\n",
    "\n",
    "for href in all_links_href:\n",
    "    if len(pattern.findall(href))>0:\n",
    "        account = pattern.findall(href)[0]\n",
    "        records.update({account:href})\n",
    "        \n",
    "records"
   ]
  },
  {
   "cell_type": "markdown",
   "metadata": {
    "colab_type": "text",
    "heading_collapsed": true,
    "id": "zbiOi4e-6pqt"
   },
   "source": [
    "# To do: Scale\n",
    "\n",
    "To do:\n",
    "\n",
    "* compile all functions into a single function which ingests a url and spits out a record for the things.\n",
    "* structure records into a pandas dataframe\n",
    "* make a single data observation >> data visualization from your findings\n",
    "\n",
    "We will do:\n",
    "* find more creepy stuff!"
   ]
  },
  {
   "cell_type": "markdown",
   "metadata": {
    "colab": {},
    "colab_type": "code",
    "id": "Vl_3tQEU6Aag"
   },
   "source": [
    "# My stuff"
   ]
  },
  {
   "cell_type": "code",
   "execution_count": 17,
   "metadata": {},
   "outputs": [],
   "source": [
    "urls =  [\"https://www.meetup.com/nycpython\", \"https://www.eventbrite.com/d/ny--new-york/python/\"]\n",
    "tags =  [\"title\", \"description\"]\n",
    "links = [\"facebook\",\"youtube\",\"instagram\",\"twitter\",\"medium\"]\n",
    "soups = []\n",
    "records = {}"
   ]
  },
  {
   "cell_type": "markdown",
   "metadata": {},
   "source": [
    "## functions"
   ]
  },
  {
   "cell_type": "markdown",
   "metadata": {},
   "source": [
    "### get_scripts_data"
   ]
  },
  {
   "cell_type": "code",
   "execution_count": 18,
   "metadata": {},
   "outputs": [],
   "source": [
    "def get_scripts_data(soup):\n",
    "    records={}\n",
    "    records[\"scripts\"]=[]\n",
    "\n",
    "    scripts_list = soup.find_all(\"script\")\n",
    "    records.update({\"n_scripts\":len(scripts_list)})\n",
    "    \n",
    "    # We want the hrefs from the soup objects:\n",
    "    all_scripts_src = [x.get(\"src\",None) for x in scripts_list]\n",
    "    \n",
    "    for script_src in all_scripts_src:\n",
    "        if script_src:\n",
    "            records[\"scripts\"].append(script_src)\n",
    "\n",
    "    return records\n",
    "    "
   ]
  },
  {
   "cell_type": "markdown",
   "metadata": {},
   "source": [
    "### get_links_data"
   ]
  },
  {
   "cell_type": "code",
   "execution_count": 19,
   "metadata": {},
   "outputs": [],
   "source": [
    "def get_links_data(soup, accounts:list):\n",
    "    records={}\n",
    "    records[\"links\"]={}\n",
    "\n",
    "    all_links = soup.find_all(\"a\")\n",
    "    records.update({\"n_links\":len(all_links)})\n",
    "    \n",
    "    # We want the hrefs from the soup objects:\n",
    "    all_links_href = [x.get(\"href\",None) for x in all_links]\n",
    "    \n",
    "    # Get social media links\n",
    "    p = \"|\".join(accounts)\n",
    "    pattern = re.compile(f\"({p})\")\n",
    "    accounts_counter = Counter()\n",
    "    for href in all_links_href:\n",
    "        if href:\n",
    "            res = pattern.findall(href)\n",
    "            if len(res)>0:\n",
    "                account = res[0]\n",
    "                records[\"links\"].update({account:href})\n",
    "\n",
    "    return records\n"
   ]
  },
  {
   "cell_type": "markdown",
   "metadata": {},
   "source": [
    "### get_tag_content"
   ]
  },
  {
   "cell_type": "code",
   "execution_count": 20,
   "metadata": {},
   "outputs": [],
   "source": [
    "def get_tag_content(soup, tag_name:str):\n",
    "    \"\"\"Get the content of tag_name in the given soup and return a str\"\"\"\n",
    "    \n",
    "    content = \"\"\n",
    "    result = soup.head.find(tag_name)\n",
    "    if not result:\n",
    "        result = soup.find(\"meta\",  property=f\"og:{tag_name}\")\n",
    "        content = result.get(\"content\")\n",
    "    else:\n",
    "        content = result.text\n",
    "\n",
    "    # remove extra white space \n",
    "    content = re.sub(' +', ' ',content.strip())\n",
    "\n",
    "    return content"
   ]
  },
  {
   "cell_type": "markdown",
   "metadata": {},
   "source": [
    "### get_data"
   ]
  },
  {
   "cell_type": "code",
   "execution_count": 43,
   "metadata": {},
   "outputs": [],
   "source": [
    "def get_data_from(urls:list, tag_names:list, accounts:list):\n",
    "    urls_records = {}\n",
    "    \n",
    "    # process urls\n",
    "    for url in urls:\n",
    "        # get raw html\n",
    "        url_records = {}\n",
    "        r = requests.get(url)\n",
    "        html = r.text if r else \"\"\n",
    "        \n",
    "        # get soup from html\n",
    "        soup = BeautifulSoup(html, 'html.parser')\n",
    "        \n",
    "        # get tag content for each tag\n",
    "        for tag_name in tag_names:\n",
    "            url_records.update( {tag_name: get_tag_content(soup, tag_name)} )\n",
    "        \n",
    "        # get social media and link info\n",
    "        url_records.update(get_links_data(soup,accounts))\n",
    "    \n",
    "        # get javascripts data\n",
    "        url_records.update(get_scripts_data(soup))\n",
    "\n",
    "        # store the data\n",
    "        urls_records[url]=url_records\n",
    "        \n",
    "    return urls_records"
   ]
  },
  {
   "cell_type": "markdown",
   "metadata": {},
   "source": [
    "## data"
   ]
  },
  {
   "cell_type": "code",
   "execution_count": 44,
   "metadata": {},
   "outputs": [],
   "source": [
    "data = get_data_from(urls,tags,links)\n"
   ]
  },
  {
   "cell_type": "markdown",
   "metadata": {},
   "source": [
    "### print data"
   ]
  },
  {
   "cell_type": "code",
   "execution_count": 49,
   "metadata": {},
   "outputs": [
    {
     "name": "stdout",
     "output_type": "stream",
     "text": [
      "https://www.meetup.com/nycpython\n",
      "\ttitle          : The New York Python Meetup Group (New York, NY) | Meetup\n",
      "\tdescription    : Meet other local Python Programming Language enthusiasts!\n",
      "\tlinks          : {'twitter': 'https://twitter.com/Meetup/', 'facebook': 'https://www.facebook.com/meetup/', 'youtube': 'https://www.youtube.com/meetup', 'instagram': 'https://www.instagram.com/meetup/', 'medium': 'https://medium.com/meetup'}\n",
      "\tn_links        : 69\n",
      "\tscripts        : ['https://cdn.polyfill.io/v2/polyfill.min.js?features=default-3.6,fetch,Intl,Intl.~locale.en-US,Array.prototype.find,Array.prototype.includes,Object.values&flags=gated', '/mu_static/react.ddd38c26.js', '/mu_static/vendor.8820b893.js', '/mu_static/en-US/app.3aa764a4.js']\n",
      "\tn_scripts      : 15\n",
      "https://www.eventbrite.com/d/ny--new-york/python/\n",
      "\ttitle          : New York, NY Python Events | Eventbrite\n",
      "\tdescription    : Lining up plans in New York? Whether you're a local, new in town, or just passing through, you'll be sure to find something on Eventbrite that piques your interest.\n",
      "\tlinks          : {'twitter': 'https://www.twitter.com/Eventbrite', 'facebook': 'https://www.facebook.com/Eventbrite', 'instagram': 'https://www.instagram.com/eventbrite/'}\n",
      "\tn_links        : 151\n",
      "\tscripts        : ['https://cdn.speedcurve.com/js/lux.js?id=116444945', 'https://script.crazyegg.com/pages/scripts/0047/7928.js', '//d2wy8f7a9ursnm.cloudfront.net/v6.4.0/bugsnag.min.js', 'https://cdn.evbstatic.com/s3-build/perm_001/7be3dc/django/js/src/jsi18n/jsi18n_en-us.js', 'https://cdn.evbstatic.com/s3-build/spa/feed/1.8.44/feed.web.js']\n",
      "\tn_scripts      : 17\n"
     ]
    },
    {
     "data": {
      "text/plain": [
       "dict_keys(['https://www.meetup.com/nycpython', 'https://www.eventbrite.com/d/ny--new-york/python/'])"
      ]
     },
     "execution_count": 49,
     "metadata": {},
     "output_type": "execute_result"
    }
   ],
   "source": [
    "for d in data:\n",
    "    print(d)\n",
    "    for  i in data[d]:\n",
    "        print(f\"\\t{i:15s}: {data[d][i]}\")\n",
    "\n",
    "data.keys()"
   ]
  },
  {
   "cell_type": "markdown",
   "metadata": {},
   "source": [
    "### build panda dataframe"
   ]
  },
  {
   "cell_type": "code",
   "execution_count": 53,
   "metadata": {},
   "outputs": [
    {
     "data": {
      "text/html": [
       "<div>\n",
       "<style scoped>\n",
       "    .dataframe tbody tr th:only-of-type {\n",
       "        vertical-align: middle;\n",
       "    }\n",
       "\n",
       "    .dataframe tbody tr th {\n",
       "        vertical-align: top;\n",
       "    }\n",
       "\n",
       "    .dataframe thead th {\n",
       "        text-align: right;\n",
       "    }\n",
       "</style>\n",
       "<table border=\"1\" class=\"dataframe\">\n",
       "  <thead>\n",
       "    <tr style=\"text-align: right;\">\n",
       "      <th></th>\n",
       "      <th>URL</th>\n",
       "      <th>n_links</th>\n",
       "      <th>n_scripts</th>\n",
       "    </tr>\n",
       "  </thead>\n",
       "  <tbody>\n",
       "    <tr>\n",
       "      <th>0</th>\n",
       "      <td>https://www.meetup.com/nycpython</td>\n",
       "      <td>69</td>\n",
       "      <td>15</td>\n",
       "    </tr>\n",
       "    <tr>\n",
       "      <th>1</th>\n",
       "      <td>https://www.eventbrite.com/d/ny--new-york/python/</td>\n",
       "      <td>151</td>\n",
       "      <td>17</td>\n",
       "    </tr>\n",
       "  </tbody>\n",
       "</table>\n",
       "</div>"
      ],
      "text/plain": [
       "                                                 URL  n_links  n_scripts\n",
       "0                   https://www.meetup.com/nycpython       69         15\n",
       "1  https://www.eventbrite.com/d/ny--new-york/python/      151         17"
      ]
     },
     "execution_count": 53,
     "metadata": {},
     "output_type": "execute_result"
    }
   ],
   "source": [
    "df = pd.DataFrame({\n",
    "    'URL':      np.array([x for x in data.keys()]),\n",
    "    'n_links':  np.array([data[x][\"n_links\"] for x in data.keys()]),\n",
    "    'n_scripts':  np.array([data[x][\"n_scripts\"] for x in data.keys()])\n",
    "})\n",
    "\n",
    "df"
   ]
  },
  {
   "cell_type": "markdown",
   "metadata": {},
   "source": [
    "### plot dataframe"
   ]
  },
  {
   "cell_type": "code",
   "execution_count": 55,
   "metadata": {},
   "outputs": [
    {
     "data": {
      "text/plain": [
       "<matplotlib.axes._subplots.AxesSubplot at 0x117e3520>"
      ]
     },
     "execution_count": 55,
     "metadata": {},
     "output_type": "execute_result"
    },
    {
     "data": {
      "image/png": "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\n",
      "text/plain": [
       "<Figure size 432x288 with 1 Axes>"
      ]
     },
     "metadata": {
      "needs_background": "light"
     },
     "output_type": "display_data"
    }
   ],
   "source": [
    "df.plot.barh(x='URL', rot=0, stacked=False)\n"
   ]
  },
  {
   "cell_type": "code",
   "execution_count": null,
   "metadata": {},
   "outputs": [],
   "source": []
  }
 ],
 "metadata": {
  "colab": {
   "authorship_tag": "ABX9TyOTFwzb/liXly7xien2ZZ14",
   "include_colab_link": true,
   "name": "Web Scraping Overview – NYC Python Meetup.ipynb",
   "provenance": []
  },
  "kernelspec": {
   "display_name": "Python 3",
   "language": "python",
   "name": "python3"
  },
  "language_info": {
   "codemirror_mode": {
    "name": "ipython",
    "version": 3
   },
   "file_extension": ".py",
   "mimetype": "text/x-python",
   "name": "python",
   "nbconvert_exporter": "python",
   "pygments_lexer": "ipython3",
   "version": "3.8.1"
  }
 },
 "nbformat": 4,
 "nbformat_minor": 1
}
