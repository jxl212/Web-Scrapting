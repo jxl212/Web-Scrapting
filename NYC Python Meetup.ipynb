{
 "cells": [
  {
   "cell_type": "markdown",
   "metadata": {
    "colab_type": "text",
    "id": "view-in-github"
   },
   "source": [
    "<a href=\"https://colab.research.google.com/github/ybressler/Web-Scraping/blob/master/Web%20Scraping%20Overview%20%E2%80%93%20NYC%20Python%20Meetup.ipynb\" target=\"_parent\"><img src=\"https://colab.research.google.com/assets/colab-badge.svg\" alt=\"Open In Colab\"/></a>"
   ]
  },
  {
   "cell_type": "markdown",
   "metadata": {
    "colab_type": "text",
    "heading_collapsed": true,
    "id": "GjFLFtmS5Yud"
   },
   "source": [
    "# Web Scraping – NYC Python Meetup\n",
    "from https://github.com/ybressler/Web-Scraping/blob/master/Web%20Scraping%20Overview%20%E2%80%93%20NYC%20Python%20Meetup.ipynb\n",
    "\n",
    "---\n"
   ]
  },
  {
   "cell_type": "code",
   "execution_count": 4,
   "metadata": {
    "colab": {},
    "colab_type": "code",
    "hidden": true,
    "id": "FQGKelpQ5dP7"
   },
   "outputs": [],
   "source": [
    "# These should all be installed. If they're not, pip install them by entering the following into a cell:\n",
    "# !pip install <package name>\n",
    "\n",
    "# Core python\n",
    "import os\n",
    "import json\n",
    "import re\n",
    "import datetime\n",
    "from collections import Counter\n",
    "\n",
    "# Web scraping\n",
    "import requests\n",
    "import urllib\n",
    "from bs4 import BeautifulSoup \n",
    "from pprint import pprint\n",
    "\n",
    "## pandas\n",
    "import numpy as np\n",
    "import pandas as pd\n"
   ]
  },
  {
   "cell_type": "markdown",
   "metadata": {
    "colab_type": "text",
    "heading_collapsed": true,
    "id": "Cq1zohTk57B6"
   },
   "source": [
    "# Basic Stuff"
   ]
  },
  {
   "cell_type": "code",
   "execution_count": 15,
   "metadata": {
    "colab": {},
    "colab_type": "code",
    "hidden": true,
    "id": "1jzzVA7o5qqM"
   },
   "outputs": [
    {
     "ename": "NameError",
     "evalue": "name 'requests' is not defined",
     "output_type": "error",
     "traceback": [
      "\u001b[1;31m---------------------------------------------------------------------------\u001b[0m",
      "\u001b[1;31mNameError\u001b[0m                                 Traceback (most recent call last)",
      "\u001b[1;32m<ipython-input-15-9e685b1500af>\u001b[0m in \u001b[0;36m<module>\u001b[1;34m\u001b[0m\n\u001b[0;32m      1\u001b[0m \u001b[0murl\u001b[0m \u001b[1;33m=\u001b[0m \u001b[1;34m\"https://www.meetup.com/nycpython/\"\u001b[0m\u001b[1;33m\u001b[0m\u001b[1;33m\u001b[0m\u001b[0m\n\u001b[0;32m      2\u001b[0m \u001b[1;33m\u001b[0m\u001b[0m\n\u001b[1;32m----> 3\u001b[1;33m \u001b[0mr\u001b[0m \u001b[1;33m=\u001b[0m \u001b[0mrequests\u001b[0m\u001b[1;33m.\u001b[0m\u001b[0mget\u001b[0m\u001b[1;33m(\u001b[0m\u001b[0murl\u001b[0m\u001b[1;33m)\u001b[0m\u001b[1;33m\u001b[0m\u001b[1;33m\u001b[0m\u001b[0m\n\u001b[0m\u001b[0;32m      4\u001b[0m \u001b[0mhtml\u001b[0m \u001b[1;33m=\u001b[0m \u001b[0mr\u001b[0m\u001b[1;33m.\u001b[0m\u001b[0mtext\u001b[0m\u001b[1;33m\u001b[0m\u001b[1;33m\u001b[0m\u001b[0m\n\u001b[0;32m      5\u001b[0m \u001b[0msoup\u001b[0m \u001b[1;33m=\u001b[0m \u001b[0mBeautifulSoup\u001b[0m\u001b[1;33m(\u001b[0m\u001b[0mhtml\u001b[0m\u001b[1;33m,\u001b[0m \u001b[1;34m'html.parser'\u001b[0m\u001b[1;33m)\u001b[0m\u001b[1;33m\u001b[0m\u001b[1;33m\u001b[0m\u001b[0m\n",
      "\u001b[1;31mNameError\u001b[0m: name 'requests' is not defined"
     ]
    }
   ],
   "source": [
    "url = \"https://www.meetup.com/nycpython/\"\n",
    "\n",
    "r = requests.get(url)\n",
    "html = r.text\n",
    "soup = BeautifulSoup(html, 'html.parser')\n",
    "\n",
    "\n",
    "# Store all the things I'm scraping\n",
    "records = {}"
   ]
  },
  {
   "cell_type": "markdown",
   "metadata": {
    "colab_type": "text",
    "hidden": true,
    "id": "cUBHrxSU6D8q"
   },
   "source": [
    "## Title"
   ]
  },
  {
   "cell_type": "code",
   "execution_count": 56,
   "metadata": {
    "colab": {
     "base_uri": "https://localhost:8080/",
     "height": 0
    },
    "colab_type": "code",
    "hidden": true,
    "id": "rHTzvlB56FLA",
    "outputId": "48c92984-66cc-431d-b18b-2205e81d3ea1"
   },
   "outputs": [
    {
     "name": "stdout",
     "output_type": "stream",
     "text": [
      "{'title': 'The New York Python Meetup Group (New York, NY) | Meetup'}\n"
     ]
    }
   ],
   "source": [
    "records = {}\n",
    "\n",
    "# Try to find it in the soup\n",
    "tag_name = \"title\" \n",
    "\n",
    "result = soup.head.find(tag_name)\n",
    "\n",
    "if not result:\n",
    "    result = soup.find(\"meta\",  property=f\"og:{tag_name}\")\n",
    "    result = result.get(\"content\")\n",
    "    \n",
    "else:\n",
    "    result = result.text\n",
    "\n",
    "records.update(\n",
    "    {tag_name: result}\n",
    ")\n",
    "\n",
    "print(records)"
   ]
  },
  {
   "cell_type": "markdown",
   "metadata": {
    "colab_type": "text",
    "hidden": true,
    "id": "sjnojjsF6PLg"
   },
   "source": [
    "## Description"
   ]
  },
  {
   "cell_type": "code",
   "execution_count": 57,
   "metadata": {
    "colab": {
     "base_uri": "https://localhost:8080/",
     "height": 0
    },
    "colab_type": "code",
    "hidden": true,
    "id": "yI1BMGS76Q_f",
    "outputId": "b425a772-24cc-443f-fbe5-a6aa18766a24"
   },
   "outputs": [
    {
     "data": {
      "text/plain": [
       "{'title': 'The New York Python Meetup Group (New York, NY) | Meetup',\n",
       " 'description': 'Meet other local Python Programming Language enthusiasts!'}"
      ]
     },
     "execution_count": 57,
     "metadata": {},
     "output_type": "execute_result"
    }
   ],
   "source": [
    "# Try to find it in the soup\n",
    "tag_name = \"description\" \n",
    "\n",
    "result = soup.head.find(tag_name)\n",
    "\n",
    "if not result:\n",
    "    result = soup.find(\"meta\",  property=f\"og:{tag_name}\")\n",
    "    result = result.get(\"content\")\n",
    "    \n",
    "else:\n",
    "    result = result.text\n",
    "\n",
    "records.update(\n",
    "    {tag_name: result}\n",
    ")\n",
    "records"
   ]
  },
  {
   "cell_type": "markdown",
   "metadata": {
    "colab_type": "text",
    "hidden": true,
    "id": "sjFbO6BW6UqV"
   },
   "source": [
    "## Some Creepy Stuff"
   ]
  },
  {
   "cell_type": "markdown",
   "metadata": {
    "hidden": true
   },
   "source": [
    "### new_relic_tracking"
   ]
  },
  {
   "cell_type": "code",
   "execution_count": 58,
   "metadata": {
    "colab": {},
    "colab_type": "code",
    "hidden": true,
    "id": "ndA4rwuM6U_K"
   },
   "outputs": [],
   "source": [
    "new_relic_tracking = \"nr-data.net\""
   ]
  },
  {
   "cell_type": "code",
   "execution_count": 59,
   "metadata": {
    "colab": {
     "base_uri": "https://localhost:8080/",
     "height": 0
    },
    "colab_type": "code",
    "hidden": true,
    "id": "B2TrDKqT6XF6",
    "outputId": "9d15ea1d-15ff-47bb-fad1-7284001ff594"
   },
   "outputs": [
    {
     "data": {
      "text/plain": [
       "datetime.datetime(2020, 2, 12, 18, 55, 47, 585000)"
      ]
     },
     "execution_count": 59,
     "metadata": {},
     "output_type": "execute_result"
    }
   ],
   "source": [
    "creepy_script = \"https://bam.nr-data.net/1/74dcd635da?a=153043785&amp;v=1167.2a4546b&amp;to=YlwAbEtRV0VWVBJQCVsWLFdLXVhaXk0DXTNHUE0CTEJVWFZaAw%3D%3D&amp;rst=6985&amp;ref=https://www.meetup.com/nycpython/&amp;ap=2389.297138&amp;be=2727&amp;fe=6932&amp;dc=3741&amp;tt=fe428349575618&amp;af=err,xhr,stn,ins,spa&amp;perf=%7B%22timing%22:%7B%22of%22:1581551747585,%22n%22:0,%22f%22:4,%22dn%22:6,%22dne%22:25,%22c%22:25,%22s%22:44,%22ce%22:75,%22rq%22:76,%22rp%22:2657,%22rpe%22:2706,%22dl%22:2669,%22di%22:3741,%22ds%22:3742,%22de%22:3742,%22dc%22:6932,%22l%22:6932,%22le%22:6957%7D,%22navigation%22:%7B%7D%7D&amp;fp=3216&amp;fcp=3216&amp;ja=%7B%22timeToAppInteractive%22:4221.2949999957345%7D&amp;jsonp=NREUM.setToken\"\n",
    "creepy_query = urllib.parse.urlparse(creepy_script).query\n",
    "# creepy_query = urllib.parse.unquote(creepy_query)\n",
    "\n",
    "creepy_all_stuff = urllib.parse.parse_qs(creepy_query)\n",
    "\n",
    "creepy_perf = json.loads(creepy_all_stuff.get(\"perf\", [\"{}\"])[0])\n",
    "creepy_perf_timing = creepy_perf.get(\"timing\", {}).get(\"of\", None)\n",
    "creepy_perf_timing_dt = datetime.datetime.fromtimestamp(creepy_perf_timing/1000) if creepy_perf_timing else None\n",
    "\n",
    "creepy_perf_timing_dt"
   ]
  },
  {
   "cell_type": "code",
   "execution_count": 60,
   "metadata": {
    "colab": {
     "base_uri": "https://localhost:8080/",
     "height": 0
    },
    "colab_type": "code",
    "hidden": true,
    "id": "JV-41Ckf6SUk",
    "outputId": "0ed9e7bd-aaef-4ffd-834f-da2c9bf8f63d",
    "scrolled": false
   },
   "outputs": [
    {
     "data": {
      "text/plain": [
       "['window.NREUM||(NREUM={});NREUM.info = {\"agent\":\"\",\"beacon\":\"bam.nr-data.net\",\"errorBeacon\":\"bam.nr-data.net\",\"licenseKey\":\"74dcd635da\",\"applicationID\":\"153043785\",\"applicationTime\":1155.591843,\"transactionName\":\"YlwAbEtRV0VWVBJQCVsWLFdLXVhaXk0DXTNHUE0CTEJVWFZaAw==\",\"queueTime\":0,\"ttGuid\":\"1d8d3e5c4811\",\"agentToken\":null}; (window.NREUM||(NREUM={})).loader_config={xpid:\"VQQEWVFTCBABUVJSAwIAXlE=\",licenseKey:\"74dcd635da\",applicationID:\"153043785\"};window.NREUM||(NREUM={}),__nr_require=function(t,e,n){function r(n){if(!e[n]){var o=e[n]={exports:{}};t[n][0].call(o.exports,function(e){var o=t[n][1][e];return r(o||e)},o,o.exports)}return e[n].exports}if(\"function\"==typeof __nr_require)return __nr_require;for(var o=0;o<n.length;o++)r(n[o]);return r}({1:[function(t,e,n){function r(t){try{s.console&&console.log(t)}catch(e){}}var o,i=t(\"ee\"),a=t(25),s={};try{o=localStorage.getItem(\"__nr_flags\").split(\",\"),console&&\"function\"==typeof console.log&&(s.console=!0,o.indexOf(\"dev\")!==-1&&(s.dev=!0),o.indexOf(\"nr_dev\")!==-1&&(s.nrDev=!0))}catch(c){}s.nrDev&&i.on(\"internal-error\",function(t){r(t.stack)}),s.dev&&i.on(\"fn-err\",function(t,e,n){r(n.stack)}),s.dev&&(r(\"NR AGENT IN DEVELOPMENT MODE\"),r(\"flags: \"+a(s,function(t,e){return t}).join(\", \")))},{}],2:[function(t,e,n){function r(t,e,n,r,s){try{l?l-=1:o(s||new UncaughtException(t,e,n),!0)}catch(f){try{i(\"ierr\",[f,c.now(),!0])}catch(d){}}return\"function\"==typeof u&&u.apply(this,a(arguments))}function UncaughtException(t,e,n){this.message=t||\"Uncaught error with no additional information\",this.sourceURL=e,this.line=n}function o(t,e){var n=e?null:c.now();i(\"err\",[t,n])}var i=t(\"handle\"),a=t(26),s=t(\"ee\"),c=t(\"loader\"),f=t(\"gos\"),u=window.onerror,d=!1,p=\"nr@seenError\",l=0;c.features.err=!0,t(1),window.onerror=r;try{throw new Error}catch(h){\"stack\"in h&&(t(13),t(12),\"addEventListener\"in window&&t(6),c.xhrWrappable&&t(14),d=!0)}s.on(\"fn-start\",function(t,e,n){d&&(l+=1)}),s.on(\"fn-err\",function(t,e,n){d&&!n[p]&&(f(n,p,function(){return!0}),this.thrown=!0,o(n))}),s.on(\"fn-end\",function(){d&&!this.thrown&&l>0&&(l-=1)}),s.on(\"internal-error\",function(t){i(\"ierr\",[t,c.now(),!0])})},{}],3:[function(t,e,n){t(\"loader\").features.ins=!0},{}],4:[function(t,e,n){function r(){L++,C=g.hash,this[u]=y.now()}function o(){L--,g.hash!==C&&i(0,!0);var t=y.now();this[h]=~~this[h]+t-this[u],this[d]=t}function i(t,e){E.emit(\"newURL\",[\"\"+g,e])}function a(t,e){t.on(e,function(){this[e]=y.now()})}var s=\"-start\",c=\"-end\",f=\"-body\",u=\"fn\"+s,d=\"fn\"+c,p=\"cb\"+s,l=\"cb\"+c,h=\"jsTime\",m=\"fetch\",v=\"addEventListener\",w=window,g=w.location,y=t(\"loader\");if(w[v]&&y.xhrWrappable){var x=t(10),b=t(11),E=t(8),O=t(6),R=t(13),P=t(7),T=t(14),N=t(9),M=t(\"ee\"),S=M.get(\"tracer\");t(16),y.features.spa=!0;var C,L=0;M.on(u,r),M.on(p,r),M.on(d,o),M.on(l,o),M.buffer([u,d,\"xhr-done\",\"xhr-resolved\"]),O.buffer([u]),R.buffer([\"setTimeout\"+c,\"clearTimeout\"+s,u]),T.buffer([u,\"new-xhr\",\"send-xhr\"+s]),P.buffer([m+s,m+\"-done\",m+f+s,m+f+c]),E.buffer([\"newURL\"]),x.buffer([u]),b.buffer([\"propagate\",p,l,\"executor-err\",\"resolve\"+s]),S.buffer([u,\"no-\"+u]),N.buffer([\"new-jsonp\",\"cb-start\",\"jsonp-error\",\"jsonp-end\"]),a(T,\"send-xhr\"+s),a(M,\"xhr-resolved\"),a(M,\"xhr-done\"),a(P,m+s),a(P,m+\"-done\"),a(N,\"new-jsonp\"),a(N,\"jsonp-end\"),a(N,\"cb-start\"),E.on(\"pushState-end\",i),E.on(\"replaceState-end\",i),w[v](\"hashchange\",i,!0),w[v](\"load\",i,!0),w[v](\"popstate\",function(){i(0,L>1)},!0)}},{}],5:[function(t,e,n){function r(t){}if(window.performance&&window.performance.timing&&window.performance.getEntriesByType){var o=t(\"ee\"),i=t(\"handle\"),a=t(13),s=t(12),c=\"learResourceTimings\",f=\"addEventListener\",u=\"resourcetimingbufferfull\",d=\"bstResource\",p=\"resource\",l=\"-start\",h=\"-end\",m=\"fn\"+l,v=\"fn\"+h,w=\"bstTimer\",g=\"pushState\",y=t(\"loader\");y.features.stn=!0,t(8),\"addEventListener\"in window&&t(6);var x=NREUM.o.EV;o.on(m,function(t,e){var n=t[0];n instanceof x&&(this.bstStart=y.now())}),o.on(v,function(t,e){var n=t[0];n instanceof x&&i(\"bst\",[n,e,this.bstStart,y.now()])}),a.on(m,function(t,e,n){this.bstStart=y.now(),this.bstType=n}),a.on(v,function(t,e){i(w,[e,this.bstStart,y.now(),this.bstType])}),s.on(m,function(){this.bstStart=y.now()}),s.on(v,function(t,e){i(w,[e,this.bstStart,y.now(),\"requestAnimationFrame\"])}),o.on(g+l,function(t){this.time=y.now(),this.startPath=location.pathname+location.hash}),o.on(g+h,function(t){i(\"bstHist\",[location.pathname+location.hash,this.startPath,this.time])}),f in window.performance&&(window.performance[\"c\"+c]?window.performance[f](u,function(t){i(d,[window.performance.getEntriesByType(p)]),window.performance[\"c\"+c]()},!1):window.performance[f](\"webkit\"+u,function(t){i(d,[window.performance.getEntriesByType(p)]),window.performance[\"webkitC\"+c]()},!1)),document[f](\"scroll\",r,{passive:!0}),document[f](\"keypress\",r,!1),document[f](\"click\",r,!1)}},{}],6:[function(t,e,n){function r(t){for(var e=t;e&&!e.hasOwnProperty(u);)e=Object.getPrototypeOf(e);e&&o(e)}function o(t){s.inPlace(t,[u,d],\"-\",i)}function i(t,e){return t[1]}var a=t(\"ee\").get(\"events\"),s=t(\"wrap-function\")(a,!0),c=t(\"gos\"),f=XMLHttpRequest,u=\"addEventListener\",d=\"removeEventListener\";e.exports=a,\"getPrototypeOf\"in Object?(r(document),r(window),r(f.prototype)):f.prototype.hasOwnProperty(u)&&(o(window),o(f.prototype)),a.on(u+\"-start\",function(t,e){var n=t[1],r=c(n,\"nr@wrapped\",function(){function t(){if(\"function\"==typeof n.handleEvent)return n.handleEvent.apply(n,arguments)}var e={object:t,\"function\":n}[typeof n];return e?s(e,\"fn-\",null,e.name||\"anonymous\"):n});this.wrapped=t[1]=r}),a.on(d+\"-start\",function(t){t[1]=this.wrapped||t[1]})},{}],7:[function(t,e,n){function r(t,e,n){var r=t[e];\"function\"==typeof r&&(t[e]=function(){var t=i(arguments),e={};o.emit(n+\"before-start\",[t],e);var a;e[m]&&e[m].dt&&(a=e[m].dt);var s=r.apply(this,t);return o.emit(n+\"start\",[t,a],s),s.then(function(t){return o.emit(n+\"end\",[null,t],s),t},function(t){throw o.emit(n+\"end\",[t],s),t})})}var o=t(\"ee\").get(\"fetch\"),i=t(26),a=t(25);e.exports=o;var s=window,c=\"fetch-\",f=c+\"body-\",u=[\"arrayBuffer\",\"blob\",\"json\",\"text\",\"formData\"],d=s.Request,p=s.Response,l=s.fetch,h=\"prototype\",m=\"nr@context\";d&&p&&l&&(a(u,function(t,e){r(d[h],e,f),r(p[h],e,f)}),r(s,\"fetch\",c),o.on(c+\"end\",function(t,e){var n=this;if(e){var r=e.headers.get(\"content-length\");null!==r&&(n.rxSize=r),o.emit(c+\"done\",[null,e],n)}else o.emit(c+\"done\",[t],n)}))},{}],8:[function(t,e,n){var r=t(\"ee\").get(\"history\"),o=t(\"wrap-function\")(r);e.exports=r;var i=window.history&&window.history.constructor&&window.history.constructor.prototype,a=window.history;i&&i.pushState&&i.replaceState&&(a=i),o.inPlace(a,[\"pushState\",\"replaceState\"],\"-\")},{}],9:[function(t,e,n){function r(t){function e(){c.emit(\"jsonp-end\",[],p),t.removeEventListener(\"load\",e,!1),t.removeEventListener(\"error\",n,!1)}function n(){c.emit(\"jsonp-error\",[],p),c.emit(\"jsonp-end\",[],p),t.removeEventListener(\"load\",e,!1),t.removeEventListener(\"error\",n,!1)}var r=t&&\"string\"==typeof t.nodeName&&\"script\"===t.nodeName.toLowerCase();if(r){var o=\"function\"==typeof t.addEventListener;if(o){var a=i(t.src);if(a){var u=s(a),d=\"function\"==typeof u.parent[u.key];if(d){var p={};f.inPlace(u.parent,[u.key],\"cb-\",p),t.addEventListener(\"load\",e,!1),t.addEventListener(\"error\",n,!1),c.emit(\"new-jsonp\",[t.src],p)}}}}}function o(){return\"addEventListener\"in window}function i(t){var e=t.match(u);return e?e[1]:null}function a(t,e){var n=t.match(p),r=n[1],o=n[3];return o?a(o,e[r]):e[r]}function s(t){var e=t.match(d);return e&&e.length>=3?{key:e[2],parent:a(e[1],window)}:{key:t,parent:window}}var c=t(\"ee\").get(\"jsonp\"),f=t(\"wrap-function\")(c);if(e.exports=c,o()){var u=/[?&](?:callback|cb)=([^&#]+)/,d=/(.*)\\\\.([^.]+)/,p=/^(\\\\w+)(\\\\.|$)(.*)$/,l=[\"appendChild\",\"insertBefore\",\"replaceChild\"];Node&&Node.prototype&&Node.prototype.appendChild?f.inPlace(Node.prototype,l,\"dom-\"):(f.inPlace(HTMLElement.prototype,l,\"dom-\"),f.inPlace(HTMLHeadElement.prototype,l,\"dom-\"),f.inPlace(HTMLBodyElement.prototype,l,\"dom-\")),c.on(\"dom-start\",function(t){r(t[0])})}},{}],10:[function(t,e,n){var r=t(\"ee\").get(\"mutation\"),o=t(\"wrap-function\")(r),i=NREUM.o.MO;e.exports=r,i&&(window.MutationObserver=function(t){return this instanceof i?new i(o(t,\"fn-\")):i.apply(this,arguments)},MutationObserver.prototype=i.prototype)},{}],11:[function(t,e,n){function r(t){var e=a.context(),n=s(t,\"executor-\",e),r=new f(n);return a.context(r).getCtx=function(){return e},a.emit(\"new-promise\",[r,e],e),r}function o(t,e){return e}var i=t(\"wrap-function\"),a=t(\"ee\").get(\"promise\"),s=i(a),c=t(25),f=NREUM.o.PR;e.exports=a,f&&(window.Promise=r,[\"all\",\"race\"].forEach(function(t){var e=f[t];f[t]=function(n){function r(t){return function(){a.emit(\"propagate\",[null,!o],i),o=o||!t}}var o=!1;c(n,function(e,n){Promise.resolve(n).then(r(\"all\"===t),r(!1))});var i=e.apply(f,arguments),s=f.resolve(i);return s}}),[\"resolve\",\"reject\"].forEach(function(t){var e=f[t];f[t]=function(t){var n=e.apply(f,arguments);return t!==n&&a.emit(\"propagate\",[t,!0],n),n}}),f.prototype[\"catch\"]=function(t){return this.then(null,t)},f.prototype=Object.create(f.prototype,{constructor:{value:r}}),c(Object.getOwnPropertyNames(f),function(t,e){try{r[e]=f[e]}catch(n){}}),a.on(\"executor-start\",function(t){t[0]=s(t[0],\"resolve-\",this),t[1]=s(t[1],\"resolve-\",this)}),a.on(\"executor-err\",function(t,e,n){t[1](n)}),s.inPlace(f.prototype,[\"then\"],\"then-\",o),a.on(\"then-start\",function(t,e){this.promise=e,t[0]=s(t[0],\"cb-\",this),t[1]=s(t[1],\"cb-\",this)}),a.on(\"then-end\",function(t,e,n){this.nextPromise=n;var r=this.promise;a.emit(\"propagate\",[r,!0],n)}),a.on(\"cb-end\",function(t,e,n){a.emit(\"propagate\",[n,!0],this.nextPromise)}),a.on(\"propagate\",function(t,e,n){this.getCtx&&!e||(this.getCtx=function(){if(t instanceof Promise)var e=a.context(t);return e&&e.getCtx?e.getCtx():this})}),r.toString=function(){return\"\"+f})},{}],12:[function(t,e,n){var r=t(\"ee\").get(\"raf\"),o=t(\"wrap-function\")(r),i=\"equestAnimationFrame\";e.exports=r,o.inPlace(window,[\"r\"+i,\"mozR\"+i,\"webkitR\"+i,\"msR\"+i],\"raf-\"),r.on(\"raf-start\",function(t){t[0]=o(t[0],\"fn-\")})},{}],13:[function(t,e,n){function r(t,e,n){t[0]=a(t[0],\"fn-\",null,n)}function o(t,e,n){this.method=n,this.timerDuration=isNaN(t[1])?0:+t[1],t[0]=a(t[0],\"fn-\",this,n)}var i=t(\"ee\").get(\"timer\"),a=t(\"wrap-function\")(i),s=\"setTimeout\",c=\"setInterval\",f=\"clearTimeout\",u=\"-start\",d=\"-\";e.exports=i,a.inPlace(window,[s,\"setImmediate\"],s+d),a.inPlace(window,[c],c+d),a.inPlace(window,[f,\"clearImmediate\"],f+d),i.on(c+u,r),i.on(s+u,o)},{}],14:[function(t,e,n){function r(t,e){d.inPlace(e,[\"onreadystatechange\"],\"fn-\",s)}function o(){var t=this,e=u.context(t);t.readyState>3&&!e.resolved&&(e.resolved=!0,u.emit(\"xhr-resolved\",[],t)),d.inPlace(t,g,\"fn-\",s)}function i(t){y.push(t),h&&(b?b.then(a):v?v(a):(E=-E,O.data=E))}function a(){for(var t=0;t<y.length;t++)r([],y[t]);y.length&&(y=[])}function s(t,e){return e}function c(t,e){for(var n in t)e[n]=t[n];return e}t(6);var f=t(\"ee\"),u=f.get(\"xhr\"),d=t(\"wrap-function\")(u),p=NREUM.o,l=p.XHR,h=p.MO,m=p.PR,v=p.SI,w=\"readystatechange\",g=[\"onload\",\"onerror\",\"onabort\",\"onloadstart\",\"onloadend\",\"onprogress\",\"ontimeout\"],y=[];e.exports=u;var x=window.XMLHttpRequest=function(t){var e=new l(t);try{u.emit(\"new-xhr\",[e],e),e.addEventListener(w,o,!1)}catch(n){try{u.emit(\"internal-error\",[n])}catch(r){}}return e};if(c(l,x),x.prototype=l.prototype,d.inPlace(x.prototype,[\"open\",\"send\"],\"-xhr-\",s),u.on(\"send-xhr-start\",function(t,e){r(t,e),i(e)}),u.on(\"open-xhr-start\",r),h){var b=m&&m.resolve();if(!v&&!m){var E=1,O=document.createTextNode(E);new h(a).observe(O,{characterData:!0})}}else f.on(\"fn-end\",function(t){t[0]&&t[0].type===w||a()})},{}],15:[function(t,e,n){function r(t){if(!i(t))return null;var e=window.NREUM;if(!e.loader_config)return null;var n=(e.loader_config.accountID||\"\").toString()||null,r=(e.loader_config.agentID||\"\").toString()||null,s=(e.loader_config.trustKey||\"\").toString()||null;if(!n||!r)return null;var c=a.generateCatId(),f=a.generateCatId(),u=Date.now(),d=o(c,f,u,n,r,s);return{header:d,guid:c,traceId:f,timestamp:u}}function o(t,e,n,r,o,i){var a=\"btoa\"in window&&\"function\"==typeof window.btoa;if(!a)return null;var s={v:[0,1],d:{ty:\"Browser\",ac:r,ap:o,id:t,tr:e,ti:n}};return i&&r!==i&&(s.d.tk=i),btoa(JSON.stringify(s))}function i(t){var e=!1,n=!1,r={};if(\"init\"in NREUM&&\"distributed_tracing\"in NREUM.init&&(r=NREUM.init.distributed_tracing,n=!!r.enabled),n)if(t.sameOrigin)e=!0;else if(r.allowed_origins instanceof Array)for(var o=0;o<r.allowed_origins.length;o++){var i=s(r.allowed_origins[o]);if(t.hostname===i.hostname&&t.protocol===i.protocol&&t.port===i.port){e=!0;break}}return n&&e}var a=t(23),s=t(17);e.exports={generateTracePayload:r,shouldGenerateTrace:i}},{}],16:[function(t,e,n){function r(t){var e=this.params,n=this.metrics;if(!this.ended){this.ended=!0;for(var r=0;r<p;r++)t.removeEventListener(d[r],this.listener,!1);e.aborted||(n.duration=a.now()-this.startTime,this.loadCaptureCalled||4!==t.readyState?null==e.status&&(e.status=0):i(this,t),n.cbTime=this.cbTime,u.emit(\"xhr-done\",[t],t),s(\"xhr\",[e,n,this.startTime]))}}function o(t,e){var n=c(e),r=t.params;r.host=n.hostname+\":\"+n.port,r.pathname=n.pathname,t.parsedOrigin=c(e),t.sameOrigin=t.parsedOrigin.sameOrigin}function i(t,e){t.params.status=e.status;var n=v(e,t.lastSize);if(n&&(t.metrics.rxSize=n),t.sameOrigin){var r=e.getResponseHeader(\"X-NewRelic-App-Data\");r&&(t.params.cat=r.split(\", \").pop())}t.loadCaptureCalled=!0}var a=t(\"loader\");if(a.xhrWrappable){var s=t(\"handle\"),c=t(17),f=t(15).generateTracePayload,u=t(\"ee\"),d=[\"load\",\"error\",\"abort\",\"timeout\"],p=d.length,l=t(\"id\"),h=t(21),m=t(20),v=t(18),w=window.XMLHttpRequest;a.features.xhr=!0,t(14),t(7),u.on(\"new-xhr\",function(t){var e=this;e.totalCbs=0,e.called=0,e.cbTime=0,e.end=r,e.ended=!1,e.xhrGuids={},e.lastSize=null,e.loadCaptureCalled=!1,t.addEventListener(\"load\",function(n){i(e,t)},!1),h&&(h>34||h<10)||window.opera||t.addEventListener(\"progress\",function(t){e.lastSize=t.loaded},!1)}),u.on(\"open-xhr-start\",function(t){this.params={method:t[0]},o(this,t[1]),this.metrics={}}),u.on(\"open-xhr-end\",function(t,e){\"loader_config\"in NREUM&&\"xpid\"in NREUM.loader_config&&this.sameOrigin&&e.setRequestHeader(\"X-NewRelic-ID\",NREUM.loader_config.xpid);var n=f(this.parsedOrigin);n&&n.header&&(e.setRequestHeader(\"newrelic\",n.header),this.dt=n)}),u.on(\"send-xhr-start\",function(t,e){var n=this.metrics,r=t[0],o=this;if(n&&r){var i=m(r);i&&(n.txSize=i)}this.startTime=a.now(),this.listener=function(t){try{\"abort\"!==t.type||o.loadCaptureCalled||(o.params.aborted=!0),(\"load\"!==t.type||o.called===o.totalCbs&&(o.onloadCalled||\"function\"!=typeof e.onload))&&o.end(e)}catch(n){try{u.emit(\"internal-error\",[n])}catch(r){}}};for(var s=0;s<p;s++)e.addEventListener(d[s],this.listener,!1)}),u.on(\"xhr-cb-time\",function(t,e,n){this.cbTime+=t,e?this.onloadCalled=!0:this.called+=1,this.called!==this.totalCbs||!this.onloadCalled&&\"function\"==typeof n.onload||this.end(n)}),u.on(\"xhr-load-added\",function(t,e){var n=\"\"+l(t)+!!e;this.xhrGuids&&!this.xhrGuids[n]&&(this.xhrGuids[n]=!0,this.totalCbs+=1)}),u.on(\"xhr-load-removed\",function(t,e){var n=\"\"+l(t)+!!e;this.xhrGuids&&this.xhrGuids[n]&&(delete this.xhrGuids[n],this.totalCbs-=1)}),u.on(\"addEventListener-end\",function(t,e){e instanceof w&&\"load\"===t[0]&&u.emit(\"xhr-load-added\",[t[1],t[2]],e)}),u.on(\"removeEventListener-end\",function(t,e){e instanceof w&&\"load\"===t[0]&&u.emit(\"xhr-load-removed\",[t[1],t[2]],e)}),u.on(\"fn-start\",function(t,e,n){e instanceof w&&(\"onload\"===n&&(this.onload=!0),(\"load\"===(t[0]&&t[0].type)||this.onload)&&(this.xhrCbStart=a.now()))}),u.on(\"fn-end\",function(t,e){this.xhrCbStart&&u.emit(\"xhr-cb-time\",[a.now()-this.xhrCbStart,this.onload,e],e)}),u.on(\"fetch-before-start\",function(t){var e,n=t[1]||{};\"string\"==typeof t[0]?e=t[0]:t[0]&&t[0].url&&(e=t[0].url),e&&(this.parsedOrigin=c(e),this.sameOrigin=this.parsedOrigin.sameOrigin);var r=f(this.parsedOrigin);if(r&&r.header){var o=r.header;if(\"string\"==typeof t[0]){var i={};for(var a in n)i[a]=n[a];i.headers=new Headers(n.headers||{}),i.headers.set(\"newrelic\",o),this.dt=r,t.length>1?t[1]=i:t.push(i)}else t[0]&&t[0].headers&&(t[0].headers.append(\"newrelic\",o),this.dt=r)}})}},{}],17:[function(t,e,n){var r={};e.exports=function(t){if(t in r)return r[t];var e=document.createElement(\"a\"),n=window.location,o={};e.href=t,o.port=e.port;var i=e.href.split(\"://\");!o.port&&i[1]&&(o.port=i[1].split(\"/\")[0].split(\"@\").pop().split(\":\")[1]),o.port&&\"0\"!==o.port||(o.port=\"https\"===i[0]?\"443\":\"80\"),o.hostname=e.hostname||n.hostname,o.pathname=e.pathname,o.protocol=i[0],\"/\"!==o.pathname.charAt(0)&&(o.pathname=\"/\"+o.pathname);var a=!e.protocol||\":\"===e.protocol||e.protocol===n.protocol,s=e.hostname===document.domain&&e.port===n.port;return o.sameOrigin=a&&(!e.hostname||s),\"/\"===o.pathname&&(r[t]=o),o}},{}],18:[function(t,e,n){function r(t,e){var n=t.responseType;return\"json\"===n&&null!==e?e:\"arraybuffer\"===n||\"blob\"===n||\"json\"===n?o(t.response):\"text\"===n||\"document\"===n||\"\"===n||void 0===n?o(t.responseText):void 0}var o=t(20);e.exports=r},{}],19:[function(t,e,n){function r(){}function o(t,e,n){return function(){return i(t,[f.now()].concat(s(arguments)),e?null:this,n),e?void 0:this}}var i=t(\"handle\"),a=t(25),s=t(26),c=t(\"ee\").get(\"tracer\"),f=t(\"loader\"),u=NREUM;\"undefined\"==typeof window.newrelic&&(newrelic=u);var d=[\"setPageViewName\",\"setCustomAttribute\",\"setErrorHandler\",\"finished\",\"addToTrace\",\"inlineHit\",\"addRelease\"],p=\"api-\",l=p+\"ixn-\";a(d,function(t,e){u[e]=o(p+e,!0,\"api\")}),u.addPageAction=o(p+\"addPageAction\",!0),u.setCurrentRouteName=o(p+\"routeName\",!0),e.exports=newrelic,u.interaction=function(){return(new r).get()};var h=r.prototype={createTracer:function(t,e){var n={},r=this,o=\"function\"==typeof e;return i(l+\"tracer\",[f.now(),t,n],r),function(){if(c.emit((o?\"\":\"no-\")+\"fn-start\",[f.now(),r,o],n),o)try{return e.apply(this,arguments)}catch(t){throw c.emit(\"fn-err\",[arguments,this,t],n),t}finally{c.emit(\"fn-end\",[f.now()],n)}}}};a(\"actionText,setName,setAttribute,save,ignore,onEnd,getContext,end,get\".split(\",\"),function(t,e){h[e]=o(l+e)}),newrelic.noticeError=function(t,e){\"string\"==typeof t&&(t=new Error(t)),i(\"err\",[t,f.now(),!1,e])}},{}],20:[function(t,e,n){e.exports=function(t){if(\"string\"==typeof t&&t.length)return t.length;if(\"object\"==typeof t){if(\"undefined\"!=typeof ArrayBuffer&&t instanceof ArrayBuffer&&t.byteLength)return t.byteLength;if(\"undefined\"!=typeof Blob&&t instanceof Blob&&t.size)return t.size;if(!(\"undefined\"!=typeof FormData&&t instanceof FormData))try{return JSON.stringify(t).length}catch(e){return}}}},{}],21:[function(t,e,n){var r=0,o=navigator.userAgent.match(/Firefox[\\\\/\\\\s](\\\\d+\\\\.\\\\d+)/);o&&(r=+o[1]),e.exports=r},{}],22:[function(t,e,n){function r(t,e){var n=t.getEntries();n.forEach(function(t){\"first-paint\"===t.name?c(\"timing\",[\"fp\",Math.floor(t.startTime)]):\"first-contentful-paint\"===t.name&&c(\"timing\",[\"fcp\",Math.floor(t.startTime)])})}function o(t,e){var n=t.getEntries();n.length>0&&c(\"lcp\",[n[n.length-1]])}function i(t){if(t instanceof u&&!p){var e,n=Math.round(t.timeStamp);e=n>1e12?Date.now()-n:f.now()-n,p=!0,c(\"timing\",[\"fi\",n,{type:t.type,fid:e}])}}if(!(\"init\"in NREUM&&\"page_view_timing\"in NREUM.init&&\"enabled\"in NREUM.init.page_view_timing&&NREUM.init.page_view_timing.enabled===!1)){var a,s,c=t(\"handle\"),f=t(\"loader\"),u=NREUM.o.EV;if(\"PerformanceObserver\"in window&&\"function\"==typeof window.PerformanceObserver){a=new PerformanceObserver(r),s=new PerformanceObserver(o);try{a.observe({entryTypes:[\"paint\"]}),s.observe({entryTypes:[\"largest-contentful-paint\"]})}catch(d){}}if(\"addEventListener\"in document){var p=!1,l=[\"click\",\"keydown\",\"mousedown\",\"pointerdown\",\"touchstart\"];l.forEach(function(t){document.addEventListener(t,i,!1)})}}},{}],23:[function(t,e,n){function r(){function t(){return e?15&e[n++]:16*Math.random()|0}var e=null,n=0,r=window.crypto||window.msCrypto;r&&r.getRandomValues&&(e=r.getRandomValues(new Uint8Array(31)));for(var o,i=\"xxxxxxxx-xxxx-4xxx-yxxx-xxxxxxxxxxxx\",a=\"\",s=0;s<i.length;s++)o=i[s],\"x\"===o?a+=t().toString(16):\"y\"===o?(o=3&t()|8,a+=o.toString(16)):a+=o;return a}function o(){function t(){return e?15&e[n++]:16*Math.random()|0}var e=null,n=0,r=window.crypto||window.msCrypto;r&&r.getRandomValues&&Uint8Array&&(e=r.getRandomValues(new Uint8Array(31)));for(var o=[],i=0;i<16;i++)o.push(t().toString(16));return o.join(\"\")}e.exports={generateUuid:r,generateCatId:o}},{}],24:[function(t,e,n){function r(t,e){if(!o)return!1;if(t!==o)return!1;if(!e)return!0;if(!i)return!1;for(var n=i.split(\".\"),r=e.split(\".\"),a=0;a<r.length;a++)if(r[a]!==n[a])return!1;return!0}var o=null,i=null,a=/Version\\\\/(\\\\S+)\\\\s+Safari/;if(navigator.userAgent){var s=navigator.userAgent,c=s.match(a);c&&s.indexOf(\"Chrome\")===-1&&s.indexOf(\"Chromium\")===-1&&(o=\"Safari\",i=c[1])}e.exports={agent:o,version:i,match:r}},{}],25:[function(t,e,n){function r(t,e){var n=[],r=\"\",i=0;for(r in t)o.call(t,r)&&(n[i]=e(r,t[r]),i+=1);return n}var o=Object.prototype.hasOwnProperty;e.exports=r},{}],26:[function(t,e,n){function r(t,e,n){e||(e=0),\"undefined\"==typeof n&&(n=t?t.length:0);for(var r=-1,o=n-e||0,i=Array(o<0?0:o);++r<o;)i[r]=t[e+r];return i}e.exports=r},{}],27:[function(t,e,n){e.exports={exists:\"undefined\"!=typeof window.performance&&window.performance.timing&&\"undefined\"!=typeof window.performance.timing.navigationStart}},{}],ee:[function(t,e,n){function r(){}function o(t){function e(t){return t&&t instanceof r?t:t?c(t,s,i):i()}function n(n,r,o,i){if(!p.aborted||i){t&&t(n,r,o);for(var a=e(o),s=m(n),c=s.length,f=0;f<c;f++)s[f].apply(a,r);var d=u[y[n]];return d&&d.push([x,n,r,a]),a}}function l(t,e){g[t]=m(t).concat(e)}function h(t,e){var n=g[t];if(n)for(var r=0;r<n.length;r++)n[r]===e&&n.splice(r,1)}function m(t){return g[t]||[]}function v(t){return d[t]=d[t]||o(n)}function w(t,e){f(t,function(t,n){e=e||\"feature\",y[n]=e,e in u||(u[e]=[])})}var g={},y={},x={on:l,addEventListener:l,removeEventListener:h,emit:n,get:v,listeners:m,context:e,buffer:w,abort:a,aborted:!1};return x}function i(){return new r}function a(){(u.api||u.feature)&&(p.aborted=!0,u=p.backlog={})}var s=\"nr@context\",c=t(\"gos\"),f=t(25),u={},d={},p=e.exports=o();p.backlog=u},{}],gos:[function(t,e,n){function r(t,e,n){if(o.call(t,e))return t[e];var r=n();if(Object.defineProperty&&Object.keys)try{return Object.defineProperty(t,e,{value:r,writable:!0,enumerable:!1}),r}catch(i){}return t[e]=r,r}var o=Object.prototype.hasOwnProperty;e.exports=r},{}],handle:[function(t,e,n){function r(t,e,n,r){o.buffer([t],r),o.emit(t,e,n)}var o=t(\"ee\").get(\"handle\");e.exports=r,r.ee=o},{}],id:[function(t,e,n){function r(t){var e=typeof t;return!t||\"object\"!==e&&\"function\"!==e?-1:t===window?0:a(t,i,function(){return o++})}var o=1,i=\"nr@id\",a=t(\"gos\");e.exports=r},{}],loader:[function(t,e,n){function r(){if(!E++){var t=b.info=NREUM.info,e=l.getElementsByTagName(\"script\")[0];if(setTimeout(u.abort,3e4),!(t&&t.licenseKey&&t.applicationID&&e))return u.abort();f(y,function(e,n){t[e]||(t[e]=n)}),c(\"mark\",[\"onload\",a()+b.offset],null,\"api\");var n=l.createElement(\"script\");n.src=\"https://\"+t.agent,e.parentNode.insertBefore(n,e)}}function o(){\"complete\"===l.readyState&&i()}function i(){c(\"mark\",[\"domContent\",a()+b.offset],null,\"api\")}function a(){return O.exists&&performance.now?Math.round(performance.now()):(s=Math.max((new Date).getTime(),s))-b.offset}var s=(new Date).getTime(),c=t(\"handle\"),f=t(25),u=t(\"ee\"),d=t(24),p=window,l=p.document,h=\"addEventListener\",m=\"attachEvent\",v=p.XMLHttpRequest,w=v&&v.prototype;NREUM.o={ST:setTimeout,SI:p.setImmediate,CT:clearTimeout,XHR:v,REQ:p.Request,EV:p.Event,PR:p.Promise,MO:p.MutationObserver};var g=\"\"+location,y={beacon:\"bam.nr-data.net\",errorBeacon:\"bam.nr-data.net\",agent:\"js-agent.newrelic.com/nr-spa-1167.min.js\"},x=v&&w&&w[h]&&!/CriOS/.test(navigator.userAgent),b=e.exports={offset:s,now:a,origin:g,features:{},xhrWrappable:x,userAgent:d};t(19),t(22),l[h]?(l[h](\"DOMContentLoaded\",i,!1),p[h](\"load\",r,!1)):(l[m](\"onreadystatechange\",o),p[m](\"onload\",r)),c(\"mark\",[\"firstbyte\",s],null,\"api\");var E=0,O=t(27)},{}],\"wrap-function\":[function(t,e,n){function r(t){return!(t&&t instanceof Function&&t.apply&&!t[a])}var o=t(\"ee\"),i=t(26),a=\"nr@original\",s=Object.prototype.hasOwnProperty,c=!1;e.exports=function(t,e){function n(t,e,n,o){function nrWrapper(){var r,a,s,c;try{a=this,r=i(arguments),s=\"function\"==typeof n?n(r,a):n||{}}catch(f){p([f,\"\",[r,a,o],s])}u(e+\"start\",[r,a,o],s);try{return c=t.apply(a,r)}catch(d){throw u(e+\"err\",[r,a,d],s),d}finally{u(e+\"end\",[r,a,c],s)}}return r(t)?t:(e||(e=\"\"),nrWrapper[a]=t,d(t,nrWrapper),nrWrapper)}function f(t,e,o,i){o||(o=\"\");var a,s,c,f=\"-\"===o.charAt(0);for(c=0;c<e.length;c++)s=e[c],a=t[s],r(a)||(t[s]=n(a,f?s+o:o,i,s))}function u(n,r,o){if(!c||e){var i=c;c=!0;try{t.emit(n,r,o,e)}catch(a){p([a,n,r,o])}c=i}}function d(t,e){if(Object.defineProperty&&Object.keys)try{var n=Object.keys(t);return n.forEach(function(n){Object.defineProperty(e,n,{get:function(){return t[n]},set:function(e){return t[n]=e,e}})}),e}catch(r){p([r])}for(var o in t)s.call(t,o)&&(e[o]=t[o]);return e}function p(e){try{t.emit(\"internal-error\",e)}catch(n){}}return t||(t=o),n.inPlace=f,n.flag=a,n}},{}]},{},[\"loader\",2,16,5,3,4]);']"
      ]
     },
     "execution_count": 60,
     "metadata": {},
     "output_type": "execute_result"
    }
   ],
   "source": [
    "pattern = re.compile(new_relic_tracking)\n",
    "\n",
    "# Trying to find this:\n",
    "soup.head.find_all(text=pattern)"
   ]
  },
  {
   "cell_type": "markdown",
   "metadata": {
    "colab_type": "text",
    "hidden": true,
    "id": "5w18swJE6d7O"
   },
   "source": [
    "## Links and Stuff"
   ]
  },
  {
   "cell_type": "code",
   "execution_count": 77,
   "metadata": {
    "colab": {},
    "colab_type": "code",
    "hidden": true,
    "id": "F6suTkE16fA8"
   },
   "outputs": [
    {
     "data": {
      "text/plain": [
       "{'n_links': 69}"
      ]
     },
     "execution_count": 77,
     "metadata": {},
     "output_type": "execute_result"
    }
   ],
   "source": [
    "all_links = soup.find_all(\"a\")\n",
    "\n",
    "records.update({\"n_links\":len(all_links)})\n",
    "\n",
    "records"
   ]
  },
  {
   "cell_type": "code",
   "execution_count": 78,
   "metadata": {
    "colab": {},
    "colab_type": "code",
    "hidden": true,
    "id": "_f4wWwcw6gSI"
   },
   "outputs": [],
   "source": [
    "# We want the hrefs from the soup objects:\n",
    "all_links_href = [x.get(\"href\",None) for x in all_links]"
   ]
  },
  {
   "cell_type": "code",
   "execution_count": 79,
   "metadata": {
    "colab": {
     "base_uri": "https://localhost:8080/",
     "height": 0
    },
    "colab_type": "code",
    "hidden": true,
    "id": "j0NP3onD6jg-",
    "outputId": "04ddbc49-a6ff-4efd-f107-c2d16a8e8a22"
   },
   "outputs": [
    {
     "data": {
      "text/plain": [
       "{'n_links': 69,\n",
       " 'twitter': 'https://twitter.com/Meetup/',\n",
       " 'facebook': 'https://www.facebook.com/meetup/',\n",
       " 'youtube': 'https://www.youtube.com/meetup',\n",
       " 'instagram': 'https://www.instagram.com/meetup/',\n",
       " 'medium': 'https://medium.com/meetup'}"
      ]
     },
     "execution_count": 79,
     "metadata": {},
     "output_type": "execute_result"
    }
   ],
   "source": [
    "# Get social media links\n",
    "pattern = re.compile(\"(facebook|youtube|instagram|twitter|medium)\")\n",
    "\n",
    "for href in all_links_href:\n",
    "    if len(pattern.findall(href))>0:\n",
    "        account = pattern.findall(href)[0]\n",
    "        records.update({account:href})\n",
    "        \n",
    "records"
   ]
  },
  {
   "cell_type": "markdown",
   "metadata": {
    "colab_type": "text",
    "heading_collapsed": true,
    "id": "zbiOi4e-6pqt"
   },
   "source": [
    "# To do: Scale\n",
    "\n",
    "To do:\n",
    "\n",
    "* compile all functions into a single function which ingests a url and spits out a record for the things.\n",
    "* structure records into a pandas dataframe\n",
    "* make a single data observation >> data visualization from your findings\n",
    "\n",
    "We will do:\n",
    "* find more creepy stuff!"
   ]
  },
  {
   "cell_type": "markdown",
   "metadata": {
    "colab": {},
    "colab_type": "code",
    "id": "Vl_3tQEU6Aag"
   },
   "source": [
    "# My stuff"
   ]
  },
  {
   "cell_type": "code",
   "execution_count": 17,
   "metadata": {},
   "outputs": [],
   "source": [
    "urls =  [\"https://www.meetup.com/nycpython\", \"https://www.eventbrite.com/d/ny--new-york/python/\"]\n",
    "tags =  [\"title\", \"description\"]\n",
    "links = [\"facebook\",\"youtube\",\"instagram\",\"twitter\",\"medium\"]\n",
    "soups = []\n",
    "records = {}"
   ]
  },
  {
   "cell_type": "markdown",
   "metadata": {},
   "source": [
    "## functions"
   ]
  },
  {
   "cell_type": "markdown",
   "metadata": {},
   "source": [
    "### get_scripts_data"
   ]
  },
  {
   "cell_type": "code",
   "execution_count": 18,
   "metadata": {},
   "outputs": [],
   "source": [
    "def get_scripts_data(soup):\n",
    "    records={}\n",
    "    records[\"scripts\"]=[]\n",
    "\n",
    "    scripts_list = soup.find_all(\"script\")\n",
    "    records.update({\"n_scripts\":len(scripts_list)})\n",
    "    \n",
    "    # We want the hrefs from the soup objects:\n",
    "    all_scripts_src = [x.get(\"src\",None) for x in scripts_list]\n",
    "    \n",
    "    for script_src in all_scripts_src:\n",
    "        if script_src:\n",
    "            records[\"scripts\"].append(script_src)\n",
    "\n",
    "    return records\n",
    "    "
   ]
  },
  {
   "cell_type": "markdown",
   "metadata": {},
   "source": [
    "### get_links_data"
   ]
  },
  {
   "cell_type": "code",
   "execution_count": 19,
   "metadata": {},
   "outputs": [],
   "source": [
    "def get_links_data(soup, accounts:list):\n",
    "    records={}\n",
    "    records[\"links\"]={}\n",
    "\n",
    "    all_links = soup.find_all(\"a\")\n",
    "    records.update({\"n_links\":len(all_links)})\n",
    "    \n",
    "    # We want the hrefs from the soup objects:\n",
    "    all_links_href = [x.get(\"href\",None) for x in all_links]\n",
    "    \n",
    "    # Get social media links\n",
    "    p = \"|\".join(accounts)\n",
    "    pattern = re.compile(f\"({p})\")\n",
    "    accounts_counter = Counter()\n",
    "    for href in all_links_href:\n",
    "        if href:\n",
    "            res = pattern.findall(href)\n",
    "            if len(res)>0:\n",
    "                account = res[0]\n",
    "                records[\"links\"].update({account:href})\n",
    "\n",
    "    return records\n"
   ]
  },
  {
   "cell_type": "markdown",
   "metadata": {},
   "source": [
    "### get_tag_content"
   ]
  },
  {
   "cell_type": "code",
   "execution_count": 20,
   "metadata": {},
   "outputs": [],
   "source": [
    "def get_tag_content(soup, tag_name:str):\n",
    "    \"\"\"Get the content of tag_name in the given soup and return a str\"\"\"\n",
    "    \n",
    "    content = \"\"\n",
    "    result = soup.head.find(tag_name)\n",
    "    if not result:\n",
    "        result = soup.find(\"meta\",  property=f\"og:{tag_name}\")\n",
    "        content = result.get(\"content\")\n",
    "    else:\n",
    "        content = result.text\n",
    "\n",
    "    # remove extra white space \n",
    "    content = re.sub(' +', ' ',content.strip())\n",
    "\n",
    "    return content"
   ]
  },
  {
   "cell_type": "markdown",
   "metadata": {},
   "source": [
    "### get_data"
   ]
  },
  {
   "cell_type": "code",
   "execution_count": 43,
   "metadata": {},
   "outputs": [],
   "source": [
    "def get_data_from(urls:list, tag_names:list, accounts:list):\n",
    "    urls_records = {}\n",
    "    \n",
    "    # process urls\n",
    "    for url in urls:\n",
    "        # get raw html\n",
    "        url_records = {}\n",
    "        r = requests.get(url)\n",
    "        html = r.text if r else \"\"\n",
    "        \n",
    "        # get soup from html\n",
    "        soup = BeautifulSoup(html, 'html.parser')\n",
    "        \n",
    "        # get tag content for each tag\n",
    "        for tag_name in tag_names:\n",
    "            url_records.update( {tag_name: get_tag_content(soup, tag_name)} )\n",
    "        \n",
    "        # get social media and link info\n",
    "        url_records.update(get_links_data(soup,accounts))\n",
    "    \n",
    "        # get javascripts data\n",
    "        url_records.update(get_scripts_data(soup))\n",
    "\n",
    "        # store the data\n",
    "        urls_records[url]=url_records\n",
    "        \n",
    "    return urls_records"
   ]
  },
  {
   "cell_type": "markdown",
   "metadata": {},
   "source": [
    "## data"
   ]
  },
  {
   "cell_type": "code",
   "execution_count": 44,
   "metadata": {},
   "outputs": [],
   "source": [
    "data = get_data_from(urls,tags,links)\n"
   ]
  },
  {
   "cell_type": "markdown",
   "metadata": {},
   "source": [
    "### print data"
   ]
  },
  {
   "cell_type": "code",
   "execution_count": 49,
   "metadata": {},
   "outputs": [
    {
     "name": "stdout",
     "output_type": "stream",
     "text": [
      "https://www.meetup.com/nycpython\n",
      "\ttitle          : The New York Python Meetup Group (New York, NY) | Meetup\n",
      "\tdescription    : Meet other local Python Programming Language enthusiasts!\n",
      "\tlinks          : {'twitter': 'https://twitter.com/Meetup/', 'facebook': 'https://www.facebook.com/meetup/', 'youtube': 'https://www.youtube.com/meetup', 'instagram': 'https://www.instagram.com/meetup/', 'medium': 'https://medium.com/meetup'}\n",
      "\tn_links        : 69\n",
      "\tscripts        : ['https://cdn.polyfill.io/v2/polyfill.min.js?features=default-3.6,fetch,Intl,Intl.~locale.en-US,Array.prototype.find,Array.prototype.includes,Object.values&flags=gated', '/mu_static/react.ddd38c26.js', '/mu_static/vendor.8820b893.js', '/mu_static/en-US/app.3aa764a4.js']\n",
      "\tn_scripts      : 15\n",
      "https://www.eventbrite.com/d/ny--new-york/python/\n",
      "\ttitle          : New York, NY Python Events | Eventbrite\n",
      "\tdescription    : Lining up plans in New York? Whether you're a local, new in town, or just passing through, you'll be sure to find something on Eventbrite that piques your interest.\n",
      "\tlinks          : {'twitter': 'https://www.twitter.com/Eventbrite', 'facebook': 'https://www.facebook.com/Eventbrite', 'instagram': 'https://www.instagram.com/eventbrite/'}\n",
      "\tn_links        : 151\n",
      "\tscripts        : ['https://cdn.speedcurve.com/js/lux.js?id=116444945', 'https://script.crazyegg.com/pages/scripts/0047/7928.js', '//d2wy8f7a9ursnm.cloudfront.net/v6.4.0/bugsnag.min.js', 'https://cdn.evbstatic.com/s3-build/perm_001/7be3dc/django/js/src/jsi18n/jsi18n_en-us.js', 'https://cdn.evbstatic.com/s3-build/spa/feed/1.8.44/feed.web.js']\n",
      "\tn_scripts      : 17\n"
     ]
    },
    {
     "data": {
      "text/plain": [
       "dict_keys(['https://www.meetup.com/nycpython', 'https://www.eventbrite.com/d/ny--new-york/python/'])"
      ]
     },
     "execution_count": 49,
     "metadata": {},
     "output_type": "execute_result"
    }
   ],
   "source": [
    "for d in data:\n",
    "    print(d)\n",
    "    for  i in data[d]:\n",
    "        print(f\"\\t{i:15s}: {data[d][i]}\")\n",
    "\n",
    "data.keys()"
   ]
  },
  {
   "cell_type": "markdown",
   "metadata": {},
   "source": [
    "### build panda dataframe"
   ]
  },
  {
   "cell_type": "code",
   "execution_count": 53,
   "metadata": {},
   "outputs": [
    {
     "data": {
      "text/html": [
       "<div>\n",
       "<style scoped>\n",
       "    .dataframe tbody tr th:only-of-type {\n",
       "        vertical-align: middle;\n",
       "    }\n",
       "\n",
       "    .dataframe tbody tr th {\n",
       "        vertical-align: top;\n",
       "    }\n",
       "\n",
       "    .dataframe thead th {\n",
       "        text-align: right;\n",
       "    }\n",
       "</style>\n",
       "<table border=\"1\" class=\"dataframe\">\n",
       "  <thead>\n",
       "    <tr style=\"text-align: right;\">\n",
       "      <th></th>\n",
       "      <th>URL</th>\n",
       "      <th>n_links</th>\n",
       "      <th>n_scripts</th>\n",
       "    </tr>\n",
       "  </thead>\n",
       "  <tbody>\n",
       "    <tr>\n",
       "      <th>0</th>\n",
       "      <td>https://www.meetup.com/nycpython</td>\n",
       "      <td>69</td>\n",
       "      <td>15</td>\n",
       "    </tr>\n",
       "    <tr>\n",
       "      <th>1</th>\n",
       "      <td>https://www.eventbrite.com/d/ny--new-york/python/</td>\n",
       "      <td>151</td>\n",
       "      <td>17</td>\n",
       "    </tr>\n",
       "  </tbody>\n",
       "</table>\n",
       "</div>"
      ],
      "text/plain": [
       "                                                 URL  n_links  n_scripts\n",
       "0                   https://www.meetup.com/nycpython       69         15\n",
       "1  https://www.eventbrite.com/d/ny--new-york/python/      151         17"
      ]
     },
     "execution_count": 53,
     "metadata": {},
     "output_type": "execute_result"
    }
   ],
   "source": [
    "df = pd.DataFrame({\n",
    "    'URL':      np.array([x for x in data.keys()]),\n",
    "    'n_links':  np.array([data[x][\"n_links\"] for x in data.keys()]),\n",
    "    'n_scripts':  np.array([data[x][\"n_scripts\"] for x in data.keys()])\n",
    "})\n",
    "\n",
    "df"
   ]
  },
  {
   "cell_type": "markdown",
   "metadata": {},
   "source": [
    "### plot dataframe"
   ]
  },
  {
   "cell_type": "code",
   "execution_count": 55,
   "metadata": {},
   "outputs": [
    {
     "data": {
      "text/plain": [
       "<matplotlib.axes._subplots.AxesSubplot at 0x117e3520>"
      ]
     },
     "execution_count": 55,
     "metadata": {},
     "output_type": "execute_result"
    },
    {
     "data": {
      "image/png": "[encoded data removed]",
      "text/plain": [
       "<Figure size 432x288 with 1 Axes>"
      ]
     },
     "metadata": {
      "needs_background": "light"
     },
     "output_type": "display_data"
    }
   ],
   "source": [
    "df.plot.barh(x='URL', rot=0, stacked=False)\n"
   ]
  },
  {
   "cell_type": "code",
   "execution_count": 284,
   "metadata": {},
   "outputs": [],
   "source": [
    "\n",
    "soups=[]\n",
    "pages = [x for x in range(7)][1:]  # pages 1 thru 6\n",
    "\n",
    "for page in pages:\n",
    "    url=f\"https://www.broadway.com/shows/tickets/?page={page}\"\n",
    "    r = requests.get(url)\n",
    "    html = r.text if r else \"\"\n",
    "    soups.append(BeautifulSoup(html, 'html.parser'))"
   ]
  },
  {
   "cell_type": "code",
   "execution_count": 285,
   "metadata": {},
   "outputs": [
    {
     "name": "stdout",
     "output_type": "stream",
     "text": [
      "grabbing shows....\n",
      "grabbed 110 shows...\n"
     ]
    }
   ],
   "source": [
    "show_records={}\n",
    "print(\"grabbing shows....\")\n",
    "for soup in soups:\n",
    "    all_shows = soup.find(\"div\", attrs={\"data-qa\":\"fas-results\"})\n",
    "    shows_links = all_shows.find_all(\"a\", attrs={\"class\":\"link-111-111\"})\n",
    "    for show in shows_links:\n",
    "        show_name = re.sub(' +', ' ',show.get_text().strip())\n",
    "        show_href = show.get(\"href\")\n",
    "        r = requests.get(f\"https://www.broadway.com{show_href}\")\n",
    "        show_html = r.text if r else \"\"\n",
    "        show_soup=BeautifulSoup(show_html, 'html.parser')\n",
    "        show_records.update({show_name:{\"name\":show_name, \"soup\":show_soup}})\n",
    "print(f\"grabbed {len(show_soups)} shows...\")"
   ]
  },
  {
   "cell_type": "code",
   "execution_count": 288,
   "metadata": {},
   "outputs": [],
   "source": [
    "def get_theater_capacity(url):\n",
    "    if not url:\n",
    "        return 0\n",
    "    if \"/\" == url[0]:\n",
    "        url = \"https://www.broadway.com\" + url\n",
    "    r = requests.get(url)\n",
    "    html = r.text if r else \"\"\n",
    "    soup = BeautifulSoup(html, 'html.parser')\n",
    "    capacity = soup.find(\"div\", attrs={\"data-qa\":\"left-rail-capacity-amount\"})\n",
    "    if capacity:\n",
    "        capacity = int(capacity.get_text())\n",
    "    return capacity"
   ]
  },
  {
   "cell_type": "code",
   "execution_count": 296,
   "metadata": {
    "scrolled": true
   },
   "outputs": [
    {
     "name": "stdout",
     "output_type": "stream",
     "text": [
      "Hamilton                                : $  199.00,  [         5], (10), 1380, gross: 274620.0\n",
      "Wicked                                  : $   79.00,  [         6], (8), 1933, gross: 152707.0\n",
      "The Phantom of the Opera                : $   29.00,  [         5], (10), 1607, gross: 46603.0\n",
      "The Lion King                           : $   99.00,  [         5], (13), 1615, gross: 159885.0\n",
      "To Kill a Mockingbird                   : $   39.00,  [         6], (14), 1468, gross: 57252.0\n",
      "Beetlejuice                             : $   59.00,  [         3], (9), 1498, gross: 88382.0\n",
      "Aladdin                                 : $   59.50,  [         6], (8), 1801, gross: 107159.5\n",
      "Ain't Too Proud – The Life and Times of The Temptations: $   49.00,  [         4], (5), 1435, gross: 70315.0\n",
      "The Book of Mormon                      : $   69.00,  [         5], (5), 1108, gross: 76452.0\n",
      "Tina: The Tina Turner Musical           : $   59.00,  [         2], (5), 1509, gross: 89031.0\n",
      "Chicago                                 : $   49.50,  [         7], (6), 1124, gross: 55638.0\n",
      "Hadestown                               : $   69.00,  [         4], (5), 947, gross: 65343.0\n",
      "Mean Girls                              : $   69.50,  [         4], (10), 1275, gross: 88612.5\n",
      "Dear Evan Hansen                        : $   89.00,  [         5], (9), 1025, gross: 91225.0\n",
      "Come From Away                          : $   49.00,  [         5], (12), 1079, gross: 52871.0\n",
      "Frozen                                  : $   57.50,  [         2], (8), 1530, gross: 87975.0\n",
      "Harry Potter and the Cursed Child       : $   40.00,  [         5], (39), 1813, gross: 72520.0\n",
      "Jagged Little Pill                      : $   49.00,  [         2], (6), 1218, gross: 59682.0\n",
      "Girl From the North Country             : $   49.00,  [         2], (13), 1016, gross: 49784.0\n",
      "Company                                 : $   59.00,  [         3], (14), 1101, gross: 64959.0\n",
      "The Inheritance                         : $   39.00,  [         4], (13), 1096, gross: 42744.0\n",
      "The Inheritance – Part 2                : $   39.00,  [         4], (13), 1096, gross: 42744.0\n",
      "Diana                                   : $   49.00,  [         2], (18), 1091, gross: 53459.0\n",
      "Jersey Boys                             : $   59.00,  [         5], (4), 499, gross: 29441.0\n",
      "Rock of Ages                            : $   39.00,  [         2], (9), 499, gross: 19461.0\n",
      "Blue Man Group                          : $   82.50,  [         5], (0), 300, gross: 24750.0\n",
      "Stomp                                   : $   49.50,  [         4], (2), 347, gross: 17176.5\n",
      "The Music Man                           : $   99.00,  [         4], (6), 1498, gross: 148302.0\n",
      "Moulin Rouge! The Musical               : $   99.00,  [         3], (7), 1437, gross: 142263.0\n",
      "West Side Story                         : $   39.00,  [         4], (14), 1761, gross: 68679.0\n",
      "Plaza Suite                             : $   79.00,  [         4], (5), 970, gross: 76630.0\n",
      "Six                                     : $   79.00,  [         2], (6), 1109, gross: 87611.0\n",
      "Mrs. Doubtfire                          : $   59.00,  [         3], (10), 1055, gross: 62245.0\n",
      "The Lehman Trilogy                      : $   49.00,  [         3], (3), 1200, gross: 58800.0\n",
      "Little Shop of Horrors                  : $   69.00,  [         2], (8), None, gross: 0\n",
      "A Soldier's Play                        : $   59.00,  [         4], (12), 740, gross: 43660.0\n",
      "Riverdance 25th Anniversary Show        : $   35.00,  [         2], (8), 6000, gross: 210000.0\n",
      "Who's Afraid of Virginia Woolf?         : $   49.00,  [         5], (4), 806, gross: 39494.0\n",
      "American Buffalo                        : $   99.50,  [         4], (3), 623, gross: 61988.5\n",
      "The Play That Goes Wrong                : $   97.00,  [         3], (8), 360, gross: 34920.0\n",
      "Hangmen                                 : $   49.00,  [         3], (9), 804, gross: 39396.0\n",
      "MJ The Musical                          : $   59.00,  [         2], (17), 1428, gross: 84252.0\n",
      "The Minutes                             : $   49.00,  [         3], (11), 1102, gross: 53998.0\n",
      "Sing Street                             : $   49.00,  [         2], (14), 943, gross: 46207.0\n",
      "My Name Is Lucy Barton                  : $  189.00,  [         4], (1), 650, gross: 122850.0\n",
      "The Office! A Musical Parody            : $   59.00,  [         2], (7), 199, gross: 11741.0\n",
      "Gazillion Bubble Show                   : $   59.00,  [         5], (5), 350, gross: 20650.0\n",
      "David Byrne's American Utopia           : $     nan,  [         2], (12), 970, gross: 0\n",
      "Caroline, or Change                     : $   59.00,  [         3], (17), 922, gross: 54398.0\n",
      "Grand Horizons                          : $   79.00,  [         3], (7), 583, gross: 46057.0\n",
      "Birthday Candles                        : $   49.00,  [         4], (6), 740, gross: 36260.0\n",
      "Sistas                                  : $   44.50,  [         2], (5), 174, gross: 7743.0\n",
      "Flying Over Sunset                      : $   87.00,  [         2], (10), 1105, gross: 96135.0\n",
      "The Imbible: A Spirited History of Drinking: $   89.00,  [         3], (3), None, gross: 0\n",
      "How I Learned To Drive                  : $   79.00,  [         4], (5), 650, gross: 51350.0\n",
      "72 Miles To Go                          : $   79.00,  [         3], (5), 400, gross: 31600.0\n",
      "The Confession of Lily Dare             : $   88.00,  [         2], (6), None, gross: 0\n",
      "Drunk Shakespeare                       : $   55.00,  [         3], (11), None, gross: 0\n",
      "Drift                                   : $   79.00,  [         3], (5), 199, gross: 15721.0\n",
      "The Perplexed                           : $  101.50,  [         3], (10), None, gross: 0\n",
      "Bob & Carol & Ted & Alice               : $   57.00,  [         2], (5), None, gross: 0\n",
      "Cambodian Rock Band                     : $   41.50,  [         2], (6), None, gross: 0\n",
      "Intimate Apparel                        : $   82.00,  [         3], (7), 299, gross: 24518.0\n",
      "Trevor                                  : $   59.00,  [         2], (11), 499, gross: 29441.0\n",
      "Dracula                                 : $   82.00,  [         3], (9), 199, gross: 16318.0\n",
      "Frankenstein                            : $   82.00,  [         3], (2), 199, gross: 16318.0\n",
      "Coal Country                            : $   67.00,  [         3], (8), 272, gross: 18224.0\n",
      "Disney on Broadway Tour                 : $   65.00,  [         3], (0), 18, gross: 1170.0\n",
      "Take Me Out                             : $     nan,  [         2], (10), 583, gross: 0\n",
      "The Devil Wears Prada                   : $     nan,  [         2], (2), 0, gross: 0\n",
      "The Secret Garden                       : $     nan,  [         3], (3), 0, gross: 0\n",
      "1776                                    : $     nan,  [         3], (3), 740, gross: 0\n",
      "Once Upon a One More Time               : $     nan,  [         2], (4), 0, gross: 0\n",
      "The Visitor                             : $   92.00,  [         2], (4), 299, gross: 27508.0\n",
      "All The Natalie Portmans                : $   30.00,  [         3], (5), None, gross: 0\n",
      "Emojiland                               : $   51.00,  [         3], (14), None, gross: 0\n",
      "The Vagrant Trilogy                     : $   62.00,  [         2], (6), 159, gross: 9858.0\n",
      "... What The End Will Be                : $   79.00,  [         2], (2), 400, gross: 31600.0\n",
      "The Hot Wing King                       : $   41.50,  [         3], (6), None, gross: 0\n",
      "Between the Lines                       : $     nan,  [         2], (10), 296, gross: 0\n",
      "Dana H.                                 : $     nan,  [         3], (1), 250, gross: 0\n",
      "Harry Townsend's Last Stand             : $   61.50,  [         3], (2), None, gross: 0\n",
      "Assassins                               : $     nan,  [         2], (9), 199, gross: 0\n",
      "We're Gonna Die                         : $   69.00,  [         3], (1), 296, gross: 20424.0\n",
      "Twilight: Los Angeles, 1992             : $     nan,  [         3], (2), None, gross: 0\n",
      "Nollywood Dreams                        : $     nan,  [         3], (6), None, gross: 0\n",
      "The Woman in Black                      : $   79.50,  [         3], (2), 250, gross: 19875.0\n",
      "Last Summer at Bluefish Cove            : $     nan,  [         2], (2), 0, gross: 0\n",
      "Poor Yella Rednecks                     : $   91.50,  [         3], (7), None, gross: 0\n",
      "Darling Grenadine                       : $   30.00,  [         2], (6), 50, gross: 1500.0\n"
     ]
    },
    {
     "name": "stdout",
     "output_type": "stream",
     "text": [
      "DaVinci and Michelangelo: The Titans Experience: $   39.50,  [         2], (1), 174, gross: 6873.0\n",
      "The Best We Could (a family tragedy)    : $   36.00,  [         2], (5), None, gross: 0\n",
      "Metropolitan Opera: La Bohème           : $   39.50,  [         2], (3), 3800, gross: 150100.0\n",
      "Exception to the Rule                   : $   30.00,  [         3], (2), 50, gross: 1500.0\n",
      "Metropolitan Opera: La Cenerentola      : $   32.50,  [         2], (2), 3800, gross: 123500.0\n",
      "Metropolitan Opera: Cosi Fan Tutte      : $   32.50,  [         2], (2), 3800, gross: 123500.0\n",
      "Metropolitan Opera: Der Fliegende Holländer: $   39.50,  [         2], (6), 3800, gross: 150100.0\n",
      "Metropolitan Opera: Madama Butterfly    : $   39.55,  [         2], (3), 3800, gross: 150290.0\n",
      "Metropolitan Opera: Porgy and Bess      : $     nan,  [         2], (0), 3800, gross: 0\n",
      "Metropolitan Opera: Manon Lescaut       : $   45.50,  [         2], (0), 3800, gross: 172900.0\n",
      "Metropolitan Opera: Maria Stuarda       : $   38.50,  [         2], (0), 3800, gross: 146300.0\n",
      "Frankenstein: A New Musical             : $   39.50,  [         2], (0), 174, gross: 6873.0\n",
      "Metropolitan Opera: Le Nozze di Figaro  : $   32.50,  [         1], (0), 3800, gross: 123500.0\n",
      "Metropolitan Opera: Simon Boccanegra    : $   39.50,  [         1], (4), 3800, gross: 150100.0\n",
      "Metropolitan Opera: Tosca               : $   49.50,  [         2], (6), 3800, gross: 188100.0\n",
      "Metropolitan Opera: La Traviata         : $   39.50,  [         2], (6), 3800, gross: 150100.0\n",
      "Metropolitan Opera: Turandot            : $   39.50,  [         1], (6), 3800, gross: 150100.0\n",
      "Metropolitan Opera: Werther             : $   39.50,  [         2], (2), 3800, gross: 150100.0\n",
      "Metropolitan Opera: Agrippina           : $   37.50,  [         2], (0), 3800, gross: 142500.0\n",
      "Metropolitan Opera: Káťa Kabanová       : $   45.50,  [         2], (0), 3800, gross: 172900.0\n"
     ]
    }
   ],
   "source": [
    "for key in show_records.keys():\n",
    "    show = show_records[key]\n",
    "    show_name = show[\"name\"]\n",
    "    show_soup = show[\"soup\"]\n",
    "    #span class=\"rspButtonBox__ticketValue\"\n",
    "    show_price = show_soup.find(\"span\", attrs={\"class\":\"rspButtonBox__ticketValue\"})\n",
    "    if show_price:\n",
    "        show_price = str(show_price.get_text().strip().replace(\"$\",\"\"))\n",
    "        show_price = float(show_price)\n",
    "    else :\n",
    "        show_price = np.NaN\n",
    "    #li data-qa=\"category-list\"\n",
    "    show_categories = show_soup.find_all(\"li\", attrs={\"data-qa\":\"category-list\"})\n",
    "    if show_categories == None:\n",
    "        show_categories = []\n",
    "    \n",
    "    # ul class=\"man\"\n",
    "    show_cast_list = show_soup.find(\"ul\", attrs={\"class\":\"man\"})\n",
    "    if show_cast_list:\n",
    "        show_cast_list = show_cast_list.find_all(\"li\")\n",
    "        \n",
    "    if show_cast_list == None:\n",
    "        show_cast_list = []\n",
    "        \n",
    "    gross = 0\n",
    "    show_theater_capacity=0\n",
    "    show_theater_url = show_soup.find(\"a\", attrs={\"class\":\"rspHeroHeader__venue\"})\n",
    "    if show_theater_url:\n",
    "        show_theater_url=show_theater_url.get(\"href\")\n",
    "        show_theater_capacity = get_theater_capacity(show_theater_url) \n",
    "        if show_theater_capacity and show_price and show_price > 0:\n",
    "            gross = show_theater_capacity * show_price\n",
    "    \n",
    "    print(f\"{show_name:40s}: ${show_price:>8.2f},  [{len(show_categories):10d}], ({len(show_cast_list)}), {show_theater_capacity}, gross: {gross}\")\n",
    "    show_records[key].update( {\n",
    "        \"price\":show_price, \n",
    "        \"n_categories\":len(show_categories),\n",
    "        \"n_cast\": len(show_cast_list),\n",
    "        \"capacity\": show_theater_capacity,\n",
    "        \"gross\": gross\n",
    "    } )\n",
    "    \n"
   ]
  },
  {
   "cell_type": "markdown",
   "metadata": {},
   "source": [
    "# price of Bway show per cat-listed"
   ]
  },
  {
   "cell_type": "code",
   "execution_count": 291,
   "metadata": {},
   "outputs": [],
   "source": [
    "k = [x for x in show_records.keys()][0]\n",
    "show = show_records[k]"
   ]
  },
  {
   "cell_type": "code",
   "execution_count": 292,
   "metadata": {},
   "outputs": [
    {
     "data": {
      "text/plain": [
       "dict_keys(['name', 'soup', 'price', 'n_categories', 'n_cast', 'capacity', 'gross'])"
      ]
     },
     "execution_count": 292,
     "metadata": {},
     "output_type": "execute_result"
    }
   ],
   "source": [
    "show.keys()"
   ]
  },
  {
   "cell_type": "code",
   "execution_count": 297,
   "metadata": {},
   "outputs": [
    {
     "data": {
      "text/html": [
       "<div>\n",
       "<style scoped>\n",
       "    .dataframe tbody tr th:only-of-type {\n",
       "        vertical-align: middle;\n",
       "    }\n",
       "\n",
       "    .dataframe tbody tr th {\n",
       "        vertical-align: top;\n",
       "    }\n",
       "\n",
       "    .dataframe thead th {\n",
       "        text-align: right;\n",
       "    }\n",
       "</style>\n",
       "<table border=\"1\" class=\"dataframe\">\n",
       "  <thead>\n",
       "    <tr style=\"text-align: right;\">\n",
       "      <th></th>\n",
       "      <th>name</th>\n",
       "      <th>price</th>\n",
       "      <th>n_categories</th>\n",
       "      <th>n_cast</th>\n",
       "      <th>capacity</th>\n",
       "      <th>gross</th>\n",
       "    </tr>\n",
       "  </thead>\n",
       "  <tbody>\n",
       "    <tr>\n",
       "      <th>0</th>\n",
       "      <td>Hamilton</td>\n",
       "      <td>199.0</td>\n",
       "      <td>5</td>\n",
       "      <td>10</td>\n",
       "      <td>1380</td>\n",
       "      <td>274620.0</td>\n",
       "    </tr>\n",
       "    <tr>\n",
       "      <th>1</th>\n",
       "      <td>Wicked</td>\n",
       "      <td>79.0</td>\n",
       "      <td>6</td>\n",
       "      <td>8</td>\n",
       "      <td>1933</td>\n",
       "      <td>152707.0</td>\n",
       "    </tr>\n",
       "    <tr>\n",
       "      <th>2</th>\n",
       "      <td>The Phantom of the Opera</td>\n",
       "      <td>29.0</td>\n",
       "      <td>5</td>\n",
       "      <td>10</td>\n",
       "      <td>1607</td>\n",
       "      <td>46603.0</td>\n",
       "    </tr>\n",
       "    <tr>\n",
       "      <th>3</th>\n",
       "      <td>The Lion King</td>\n",
       "      <td>99.0</td>\n",
       "      <td>5</td>\n",
       "      <td>13</td>\n",
       "      <td>1615</td>\n",
       "      <td>159885.0</td>\n",
       "    </tr>\n",
       "    <tr>\n",
       "      <th>4</th>\n",
       "      <td>To Kill a Mockingbird</td>\n",
       "      <td>39.0</td>\n",
       "      <td>6</td>\n",
       "      <td>14</td>\n",
       "      <td>1468</td>\n",
       "      <td>57252.0</td>\n",
       "    </tr>\n",
       "    <tr>\n",
       "      <th>...</th>\n",
       "      <td>...</td>\n",
       "      <td>...</td>\n",
       "      <td>...</td>\n",
       "      <td>...</td>\n",
       "      <td>...</td>\n",
       "      <td>...</td>\n",
       "    </tr>\n",
       "    <tr>\n",
       "      <th>105</th>\n",
       "      <td>Metropolitan Opera: La Traviata</td>\n",
       "      <td>39.5</td>\n",
       "      <td>2</td>\n",
       "      <td>6</td>\n",
       "      <td>3800</td>\n",
       "      <td>150100.0</td>\n",
       "    </tr>\n",
       "    <tr>\n",
       "      <th>106</th>\n",
       "      <td>Metropolitan Opera: Turandot</td>\n",
       "      <td>39.5</td>\n",
       "      <td>1</td>\n",
       "      <td>6</td>\n",
       "      <td>3800</td>\n",
       "      <td>150100.0</td>\n",
       "    </tr>\n",
       "    <tr>\n",
       "      <th>107</th>\n",
       "      <td>Metropolitan Opera: Werther</td>\n",
       "      <td>39.5</td>\n",
       "      <td>2</td>\n",
       "      <td>2</td>\n",
       "      <td>3800</td>\n",
       "      <td>150100.0</td>\n",
       "    </tr>\n",
       "    <tr>\n",
       "      <th>108</th>\n",
       "      <td>Metropolitan Opera: Agrippina</td>\n",
       "      <td>37.5</td>\n",
       "      <td>2</td>\n",
       "      <td>0</td>\n",
       "      <td>3800</td>\n",
       "      <td>142500.0</td>\n",
       "    </tr>\n",
       "    <tr>\n",
       "      <th>109</th>\n",
       "      <td>Metropolitan Opera: Káťa Kabanová</td>\n",
       "      <td>45.5</td>\n",
       "      <td>2</td>\n",
       "      <td>0</td>\n",
       "      <td>3800</td>\n",
       "      <td>172900.0</td>\n",
       "    </tr>\n",
       "  </tbody>\n",
       "</table>\n",
       "<p>110 rows × 6 columns</p>\n",
       "</div>"
      ],
      "text/plain": [
       "                                  name  price  n_categories  n_cast capacity  \\\n",
       "0                             Hamilton  199.0             5      10     1380   \n",
       "1                               Wicked   79.0             6       8     1933   \n",
       "2             The Phantom of the Opera   29.0             5      10     1607   \n",
       "3                        The Lion King   99.0             5      13     1615   \n",
       "4                To Kill a Mockingbird   39.0             6      14     1468   \n",
       "..                                 ...    ...           ...     ...      ...   \n",
       "105    Metropolitan Opera: La Traviata   39.5             2       6     3800   \n",
       "106       Metropolitan Opera: Turandot   39.5             1       6     3800   \n",
       "107        Metropolitan Opera: Werther   39.5             2       2     3800   \n",
       "108      Metropolitan Opera: Agrippina   37.5             2       0     3800   \n",
       "109  Metropolitan Opera: Káťa Kabanová   45.5             2       0     3800   \n",
       "\n",
       "        gross  \n",
       "0    274620.0  \n",
       "1    152707.0  \n",
       "2     46603.0  \n",
       "3    159885.0  \n",
       "4     57252.0  \n",
       "..        ...  \n",
       "105  150100.0  \n",
       "106  150100.0  \n",
       "107  150100.0  \n",
       "108  142500.0  \n",
       "109  172900.0  \n",
       "\n",
       "[110 rows x 6 columns]"
      ]
     },
     "execution_count": 297,
     "metadata": {},
     "output_type": "execute_result"
    }
   ],
   "source": [
    "df = pd.DataFrame({\n",
    "    'name':      np.array([x for x in show_records.keys()]),\n",
    "    'price':  np.array([show_records[x][\"price\"] for x in show_records.keys()]),\n",
    "    'n_categories':  np.array([show_records[x][\"n_categories\"] for x in show_records.keys()]),\n",
    "    'n_cast':  np.array([show_records[x][\"n_cast\"] for x in show_records.keys()]),\n",
    "    'capacity': np.array([show_records[x][\"capacity\"] for x in show_records.keys()]),\n",
    "    'gross': np.array([show_records[x][\"gross\"] for x in show_records.keys()])\n",
    "})\n",
    "\n",
    "df"
   ]
  },
  {
   "cell_type": "code",
   "execution_count": 301,
   "metadata": {},
   "outputs": [
    {
     "data": {
      "text/plain": [
       "<matplotlib.axes._subplots.AxesSubplot at 0x27c871032e0>"
      ]
     },
     "execution_count": 301,
     "metadata": {},
     "output_type": "execute_result"
    },
    {
     "data": {
      "image/png": "[encoded data removed]",
      "text/plain": [
       "<Figure size 432x288 with 1 Axes>"
      ]
     },
     "metadata": {
      "needs_background": "light"
     },
     "output_type": "display_data"
    }
   ],
   "source": [
    "df.plot.scatter(x=\"n_cast\",y=\"gross\")"
   ]
  },
  {
   "cell_type": "code",
   "execution_count": 265,
   "metadata": {},
   "outputs": [
    {
     "data": {
      "text/plain": [
       "<matplotlib.axes._subplots.AxesSubplot at 0x27cfda50d30>"
      ]
     },
     "execution_count": 265,
     "metadata": {},
     "output_type": "execute_result"
    },
    {
     "data": {
      "image/png": "[encoded data removed]",
      "text/plain": [
       "<Figure size 432x288 with 1 Axes>"
      ]
     },
     "metadata": {
      "needs_background": "light"
     },
     "output_type": "display_data"
    }
   ],
   "source": [
    "df.plot.scatter(x=\"n_cast\",y=\"capacity\")"
   ]
  },
  {
   "cell_type": "code",
   "execution_count": 305,
   "metadata": {},
   "outputs": [],
   "source": [
    "filtered_df = df[df['n_categories'] != 0][df['n_cast'] != 0]\n",
    "filtered_df = filtered_df[filtered_df['capacity']!=0]\n",
    "filtered_df = filtered_df[filtered_df['gross']>0]\n",
    "\n"
   ]
  },
  {
   "cell_type": "code",
   "execution_count": 306,
   "metadata": {},
   "outputs": [
    {
     "data": {
      "text/html": [
       "<div>\n",
       "<style scoped>\n",
       "    .dataframe tbody tr th:only-of-type {\n",
       "        vertical-align: middle;\n",
       "    }\n",
       "\n",
       "    .dataframe tbody tr th {\n",
       "        vertical-align: top;\n",
       "    }\n",
       "\n",
       "    .dataframe thead th {\n",
       "        text-align: right;\n",
       "    }\n",
       "</style>\n",
       "<table border=\"1\" class=\"dataframe\">\n",
       "  <thead>\n",
       "    <tr style=\"text-align: right;\">\n",
       "      <th></th>\n",
       "      <th>name</th>\n",
       "      <th>price</th>\n",
       "      <th>n_categories</th>\n",
       "      <th>n_cast</th>\n",
       "      <th>capacity</th>\n",
       "      <th>gross</th>\n",
       "    </tr>\n",
       "  </thead>\n",
       "  <tbody>\n",
       "    <tr>\n",
       "      <th>0</th>\n",
       "      <td>Hamilton</td>\n",
       "      <td>199.0</td>\n",
       "      <td>5</td>\n",
       "      <td>10</td>\n",
       "      <td>1380</td>\n",
       "      <td>274620.0</td>\n",
       "    </tr>\n",
       "    <tr>\n",
       "      <th>1</th>\n",
       "      <td>Wicked</td>\n",
       "      <td>79.0</td>\n",
       "      <td>6</td>\n",
       "      <td>8</td>\n",
       "      <td>1933</td>\n",
       "      <td>152707.0</td>\n",
       "    </tr>\n",
       "    <tr>\n",
       "      <th>2</th>\n",
       "      <td>The Phantom of the Opera</td>\n",
       "      <td>29.0</td>\n",
       "      <td>5</td>\n",
       "      <td>10</td>\n",
       "      <td>1607</td>\n",
       "      <td>46603.0</td>\n",
       "    </tr>\n",
       "    <tr>\n",
       "      <th>3</th>\n",
       "      <td>The Lion King</td>\n",
       "      <td>99.0</td>\n",
       "      <td>5</td>\n",
       "      <td>13</td>\n",
       "      <td>1615</td>\n",
       "      <td>159885.0</td>\n",
       "    </tr>\n",
       "    <tr>\n",
       "      <th>4</th>\n",
       "      <td>To Kill a Mockingbird</td>\n",
       "      <td>39.0</td>\n",
       "      <td>6</td>\n",
       "      <td>14</td>\n",
       "      <td>1468</td>\n",
       "      <td>57252.0</td>\n",
       "    </tr>\n",
       "    <tr>\n",
       "      <th>...</th>\n",
       "      <td>...</td>\n",
       "      <td>...</td>\n",
       "      <td>...</td>\n",
       "      <td>...</td>\n",
       "      <td>...</td>\n",
       "      <td>...</td>\n",
       "    </tr>\n",
       "    <tr>\n",
       "      <th>103</th>\n",
       "      <td>Metropolitan Opera: Simon Boccanegra</td>\n",
       "      <td>39.5</td>\n",
       "      <td>1</td>\n",
       "      <td>4</td>\n",
       "      <td>3800</td>\n",
       "      <td>150100.0</td>\n",
       "    </tr>\n",
       "    <tr>\n",
       "      <th>104</th>\n",
       "      <td>Metropolitan Opera: Tosca</td>\n",
       "      <td>49.5</td>\n",
       "      <td>2</td>\n",
       "      <td>6</td>\n",
       "      <td>3800</td>\n",
       "      <td>188100.0</td>\n",
       "    </tr>\n",
       "    <tr>\n",
       "      <th>105</th>\n",
       "      <td>Metropolitan Opera: La Traviata</td>\n",
       "      <td>39.5</td>\n",
       "      <td>2</td>\n",
       "      <td>6</td>\n",
       "      <td>3800</td>\n",
       "      <td>150100.0</td>\n",
       "    </tr>\n",
       "    <tr>\n",
       "      <th>106</th>\n",
       "      <td>Metropolitan Opera: Turandot</td>\n",
       "      <td>39.5</td>\n",
       "      <td>1</td>\n",
       "      <td>6</td>\n",
       "      <td>3800</td>\n",
       "      <td>150100.0</td>\n",
       "    </tr>\n",
       "    <tr>\n",
       "      <th>107</th>\n",
       "      <td>Metropolitan Opera: Werther</td>\n",
       "      <td>39.5</td>\n",
       "      <td>2</td>\n",
       "      <td>2</td>\n",
       "      <td>3800</td>\n",
       "      <td>150100.0</td>\n",
       "    </tr>\n",
       "  </tbody>\n",
       "</table>\n",
       "<p>76 rows × 6 columns</p>\n",
       "</div>"
      ],
      "text/plain": [
       "                                     name  price  n_categories  n_cast  \\\n",
       "0                                Hamilton  199.0             5      10   \n",
       "1                                  Wicked   79.0             6       8   \n",
       "2                The Phantom of the Opera   29.0             5      10   \n",
       "3                           The Lion King   99.0             5      13   \n",
       "4                   To Kill a Mockingbird   39.0             6      14   \n",
       "..                                    ...    ...           ...     ...   \n",
       "103  Metropolitan Opera: Simon Boccanegra   39.5             1       4   \n",
       "104             Metropolitan Opera: Tosca   49.5             2       6   \n",
       "105       Metropolitan Opera: La Traviata   39.5             2       6   \n",
       "106          Metropolitan Opera: Turandot   39.5             1       6   \n",
       "107           Metropolitan Opera: Werther   39.5             2       2   \n",
       "\n",
       "    capacity     gross  \n",
       "0       1380  274620.0  \n",
       "1       1933  152707.0  \n",
       "2       1607   46603.0  \n",
       "3       1615  159885.0  \n",
       "4       1468   57252.0  \n",
       "..       ...       ...  \n",
       "103     3800  150100.0  \n",
       "104     3800  188100.0  \n",
       "105     3800  150100.0  \n",
       "106     3800  150100.0  \n",
       "107     3800  150100.0  \n",
       "\n",
       "[76 rows x 6 columns]"
      ]
     },
     "execution_count": 306,
     "metadata": {},
     "output_type": "execute_result"
    }
   ],
   "source": [
    "filtered_df"
   ]
  },
  {
   "cell_type": "code",
   "execution_count": 307,
   "metadata": {},
   "outputs": [
    {
     "data": {
      "text/plain": [
       "<matplotlib.axes._subplots.AxesSubplot at 0x27c83c593a0>"
      ]
     },
     "execution_count": 307,
     "metadata": {},
     "output_type": "execute_result"
    },
    {
     "data": {
      "image/png": "[encoded data removed]",
      "text/plain": [
       "<Figure size 432x288 with 1 Axes>"
      ]
     },
     "metadata": {
      "needs_background": "light"
     },
     "output_type": "display_data"
    }
   ],
   "source": [
    "filtered_df.plot.scatter(x=\"n_cast\",y=\"gross\")"
   ]
  },
  {
   "cell_type": "code",
   "execution_count": 308,
   "metadata": {},
   "outputs": [
    {
     "data": {
      "text/plain": [
       "<matplotlib.axes._subplots.AxesSubplot at 0x27c821a2e80>"
      ]
     },
     "execution_count": 308,
     "metadata": {},
     "output_type": "execute_result"
    },
    {
     "data": {
      "image/png": "[encoded data removed]",
      "text/plain": [
       "<Figure size 432x288 with 1 Axes>"
      ]
     },
     "metadata": {
      "needs_background": "light"
     },
     "output_type": "display_data"
    }
   ],
   "source": [
    "filtered_df.plot.scatter(x=\"n_cast\",y=\"price\")"
   ]
  },
  {
   "cell_type": "code",
   "execution_count": 311,
   "metadata": {},
   "outputs": [
    {
     "data": {
      "text/plain": [
       "<matplotlib.axes._subplots.AxesSubplot at 0x27c86f8b910>"
      ]
     },
     "execution_count": 311,
     "metadata": {},
     "output_type": "execute_result"
    },
    {
     "data": {
      "image/png": "[encoded data removed]",
      "text/plain": [
       "<Figure size 432x288 with 1 Axes>"
      ]
     },
     "metadata": {
      "needs_background": "light"
     },
     "output_type": "display_data"
    }
   ],
   "source": [
    "filtered_df.plot.scatter(x='capacity',y='price')"
   ]
  },
  {
   "cell_type": "code",
   "execution_count": 274,
   "metadata": {},
   "outputs": [
    {
     "data": {
      "text/plain": [
       "<matplotlib.axes._subplots.AxesSubplot at 0x27cfeb474f0>"
      ]
     },
     "execution_count": 274,
     "metadata": {},
     "output_type": "execute_result"
    },
    {
     "data": {
      "image/png": "[encoded data removed]",
      "text/plain": [
       "<Figure size 432x288 with 1 Axes>"
      ]
     },
     "metadata": {
      "needs_background": "light"
     },
     "output_type": "display_data"
    }
   ],
   "source": [
    "filtered_df.plot.scatter(x=\"n_categories\",y=\"n_cast\")"
   ]
  },
  {
   "cell_type": "markdown",
   "metadata": {},
   "source": [
    "## get theater seats"
   ]
  },
  {
   "cell_type": "code",
   "execution_count": 275,
   "metadata": {},
   "outputs": [
    {
     "data": {
      "text/plain": [
       "'The Lion King'"
      ]
     },
     "execution_count": 275,
     "metadata": {},
     "output_type": "execute_result"
    }
   ],
   "source": [
    "[k for k in show_records.keys()][3]"
   ]
  },
  {
   "cell_type": "code",
   "execution_count": 276,
   "metadata": {},
   "outputs": [],
   "source": [
    "soup = show_records[k][\"soup\"]"
   ]
  },
  {
   "cell_type": "code",
   "execution_count": 277,
   "metadata": {},
   "outputs": [
    {
     "data": {
      "text/plain": [
       "'https://www.broadway.com/venues/theaters/richard-rodgers-theatre/'"
      ]
     },
     "execution_count": 277,
     "metadata": {},
     "output_type": "execute_result"
    }
   ],
   "source": [
    "url = \"https://www.broadway.com\" + soup.find(\"a\", attrs={\"class\":\"rspHeroHeader__venue\"}).get(\"href\")\n",
    "url"
   ]
  },
  {
   "cell_type": "code",
   "execution_count": 278,
   "metadata": {},
   "outputs": [],
   "source": [
    "r = requests.get(url)\n",
    "html = r.text if r else \"\"\n",
    "soup = BeautifulSoup(html, 'html.parser')"
   ]
  },
  {
   "cell_type": "code",
   "execution_count": 279,
   "metadata": {},
   "outputs": [],
   "source": [
    "capacity = soup.find(\"div\", attrs={\"data-qa\":\"left-rail-capacity-amount\"})\n",
    "if capacity:\n",
    "    capacity = int(capacity.get_text())"
   ]
  },
  {
   "cell_type": "code",
   "execution_count": 280,
   "metadata": {},
   "outputs": [
    {
     "data": {
      "text/plain": [
       "1380"
      ]
     },
     "execution_count": 280,
     "metadata": {},
     "output_type": "execute_result"
    }
   ],
   "source": [
    "capacity"
   ]
  },
  {
   "cell_type": "code",
   "execution_count": 281,
   "metadata": {},
   "outputs": [],
   "source": [
    "def get_theater_capacity(url):\n",
    "    if not url:\n",
    "        return 0\n",
    "    r = requests.get(url)\n",
    "    html = r.text if r else \"\"\n",
    "    soup = BeautifulSoup(html, 'html.parser')\n",
    "    capacity = soup.find(\"div\", attrs={\"data-qa\":\"left-rail-capacity-amount\"})\n",
    "    if capacity:\n",
    "        capacity = int(capacity.get_text())\n",
    "    return capacity\n",
    "    "
   ]
  },
  {
   "cell_type": "code",
   "execution_count": null,
   "metadata": {},
   "outputs": [],
   "source": []
  }
 ],
 "metadata": {
  "colab": {
   "authorship_tag": "ABX9TyOTFwzb/liXly7xien2ZZ14",
   "include_colab_link": true,
   "name": "Web Scraping Overview – NYC Python Meetup.ipynb",
   "provenance": []
  },
  "kernelspec": {
   "display_name": "Python 3",
   "language": "python",
   "name": "python3"
  },
  "language_info": {
   "codemirror_mode": {
    "name": "ipython",
    "version": 3
   },
   "file_extension": ".py",
   "mimetype": "text/x-python",
   "name": "python",
   "nbconvert_exporter": "python",
   "pygments_lexer": "ipython3",
   "version": "3.8.1"
  }
 },
 "nbformat": 4,
 "nbformat_minor": 1
}
